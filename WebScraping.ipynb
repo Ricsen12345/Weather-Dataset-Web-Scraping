{
  "nbformat": 4,
  "nbformat_minor": 0,
  "metadata": {
    "colab": {
      "provenance": []
    },
    "kernelspec": {
      "name": "python3",
      "display_name": "Python 3"
    },
    "language_info": {
      "name": "python"
    }
  },
  "cells": [
    {
      "cell_type": "code",
      "source": [
        "!pip install selenium bs4"
      ],
      "metadata": {
        "colab": {
          "base_uri": "https://localhost:8080/"
        },
        "id": "s3lzPa0xPWeW",
        "outputId": "0be9ee60-f929-45db-86bb-334fbcc9bd25"
      },
      "execution_count": null,
      "outputs": [
        {
          "output_type": "stream",
          "name": "stdout",
          "text": [
            "Looking in indexes: https://pypi.org/simple, https://us-python.pkg.dev/colab-wheels/public/simple/\n",
            "Collecting selenium\n",
            "  Downloading selenium-4.7.2-py3-none-any.whl (6.3 MB)\n",
            "\u001b[K     |████████████████████████████████| 6.3 MB 6.5 MB/s \n",
            "\u001b[?25hRequirement already satisfied: bs4 in /usr/local/lib/python3.8/dist-packages (0.0.1)\n",
            "Collecting trio-websocket~=0.9\n",
            "  Downloading trio_websocket-0.9.2-py3-none-any.whl (16 kB)\n",
            "Collecting trio~=0.17\n",
            "  Downloading trio-0.22.0-py3-none-any.whl (384 kB)\n",
            "\u001b[K     |████████████████████████████████| 384 kB 49.0 MB/s \n",
            "\u001b[?25hCollecting urllib3[socks]~=1.26\n",
            "  Downloading urllib3-1.26.13-py2.py3-none-any.whl (140 kB)\n",
            "\u001b[K     |████████████████████████████████| 140 kB 55.3 MB/s \n",
            "\u001b[?25hRequirement already satisfied: certifi>=2021.10.8 in /usr/local/lib/python3.8/dist-packages (from selenium) (2022.12.7)\n",
            "Requirement already satisfied: attrs>=19.2.0 in /usr/local/lib/python3.8/dist-packages (from trio~=0.17->selenium) (22.1.0)\n",
            "Requirement already satisfied: sortedcontainers in /usr/local/lib/python3.8/dist-packages (from trio~=0.17->selenium) (2.4.0)\n",
            "Collecting exceptiongroup>=1.0.0rc9\n",
            "  Downloading exceptiongroup-1.1.0-py3-none-any.whl (14 kB)\n",
            "Collecting async-generator>=1.9\n",
            "  Downloading async_generator-1.10-py3-none-any.whl (18 kB)\n",
            "Requirement already satisfied: idna in /usr/local/lib/python3.8/dist-packages (from trio~=0.17->selenium) (2.10)\n",
            "Collecting sniffio\n",
            "  Downloading sniffio-1.3.0-py3-none-any.whl (10 kB)\n",
            "Collecting outcome\n",
            "  Downloading outcome-1.2.0-py2.py3-none-any.whl (9.7 kB)\n",
            "Collecting wsproto>=0.14\n",
            "  Downloading wsproto-1.2.0-py3-none-any.whl (24 kB)\n",
            "Requirement already satisfied: PySocks!=1.5.7,<2.0,>=1.5.6 in /usr/local/lib/python3.8/dist-packages (from urllib3[socks]~=1.26->selenium) (1.7.1)\n",
            "Collecting h11<1,>=0.9.0\n",
            "  Downloading h11-0.14.0-py3-none-any.whl (58 kB)\n",
            "\u001b[K     |████████████████████████████████| 58 kB 5.4 MB/s \n",
            "\u001b[?25hRequirement already satisfied: beautifulsoup4 in /usr/local/lib/python3.8/dist-packages (from bs4) (4.6.3)\n",
            "Installing collected packages: sniffio, outcome, h11, exceptiongroup, async-generator, wsproto, urllib3, trio, trio-websocket, selenium\n",
            "  Attempting uninstall: urllib3\n",
            "    Found existing installation: urllib3 1.24.3\n",
            "    Uninstalling urllib3-1.24.3:\n",
            "      Successfully uninstalled urllib3-1.24.3\n",
            "\u001b[31mERROR: pip's dependency resolver does not currently take into account all the packages that are installed. This behaviour is the source of the following dependency conflicts.\n",
            "requests 2.23.0 requires urllib3!=1.25.0,!=1.25.1,<1.26,>=1.21.1, but you have urllib3 1.26.13 which is incompatible.\u001b[0m\n",
            "Successfully installed async-generator-1.10 exceptiongroup-1.1.0 h11-0.14.0 outcome-1.2.0 selenium-4.7.2 sniffio-1.3.0 trio-0.22.0 trio-websocket-0.9.2 urllib3-1.26.13 wsproto-1.2.0\n"
          ]
        }
      ]
    },
    {
      "cell_type": "code",
      "source": [
        "!apt-get update"
      ],
      "metadata": {
        "colab": {
          "base_uri": "https://localhost:8080/"
        },
        "id": "yU4JdB4ZPZ5m",
        "outputId": "38bdd7e6-c579-41c5-e228-3e016b713022"
      },
      "execution_count": null,
      "outputs": [
        {
          "output_type": "stream",
          "name": "stdout",
          "text": [
            "\r0% [Working]\r            \rGet:1 https://cloud.r-project.org/bin/linux/ubuntu bionic-cran40/ InRelease [3,626 B]\n",
            "\r0% [Connecting to archive.ubuntu.com (91.189.91.39)] [Connecting to security.ub\r0% [Connecting to archive.ubuntu.com (91.189.91.39)] [Connecting to security.ub\r0% [1 InRelease gpgv 3,626 B] [Waiting for headers] [Waiting for headers] [Wait\r                                                                               \rIgn:2 https://developer.download.nvidia.com/compute/machine-learning/repos/ubuntu1804/x86_64  InRelease\n",
            "\r0% [1 InRelease gpgv 3,626 B] [Waiting for headers] [Waiting for headers] [Wait\r                                                                               \rHit:3 https://developer.download.nvidia.com/compute/cuda/repos/ubuntu1804/x86_64  InRelease\n",
            "\r0% [1 InRelease gpgv 3,626 B] [Waiting for headers] [Waiting for headers] [Conn\r                                                                               \rHit:4 http://archive.ubuntu.com/ubuntu bionic InRelease\n",
            "\r                                                                               \rGet:5 http://security.ubuntu.com/ubuntu bionic-security InRelease [88.7 kB]\n",
            "\r0% [1 InRelease gpgv 3,626 B] [Waiting for headers] [5 InRelease 14.2 kB/88.7 k\r                                                                               \rHit:6 https://developer.download.nvidia.com/compute/machine-learning/repos/ubuntu1804/x86_64  Release\n",
            "\r0% [1 InRelease gpgv 3,626 B] [Waiting for headers] [5 InRelease 14.2 kB/88.7 k\r                                                                               \rGet:7 http://archive.ubuntu.com/ubuntu bionic-updates InRelease [88.7 kB]\n",
            "Get:8 http://ppa.launchpad.net/c2d4u.team/c2d4u4.0+/ubuntu bionic InRelease [15.9 kB]\n",
            "Get:9 http://archive.ubuntu.com/ubuntu bionic-backports InRelease [83.3 kB]\n",
            "Hit:10 http://ppa.launchpad.net/cran/libgit2/ubuntu bionic InRelease\n",
            "Hit:11 http://ppa.launchpad.net/deadsnakes/ppa/ubuntu bionic InRelease\n",
            "Hit:13 http://ppa.launchpad.net/graphics-drivers/ppa/ubuntu bionic InRelease\n",
            "Get:14 http://ppa.launchpad.net/c2d4u.team/c2d4u4.0+/ubuntu bionic/main Sources [2,237 kB]\n",
            "Get:15 http://ppa.launchpad.net/c2d4u.team/c2d4u4.0+/ubuntu bionic/main amd64 Packages [1,144 kB]\n",
            "Fetched 3,662 kB in 4s (817 kB/s)\n",
            "Reading package lists... Done\n"
          ]
        }
      ]
    },
    {
      "cell_type": "code",
      "source": [
        "!apt install chromium-chromedriver"
      ],
      "metadata": {
        "colab": {
          "base_uri": "https://localhost:8080/"
        },
        "id": "iD90E6ZWPcxZ",
        "outputId": "67798fd2-e2ad-4d53-b8df-e4c0371e6077"
      },
      "execution_count": null,
      "outputs": [
        {
          "output_type": "stream",
          "name": "stdout",
          "text": [
            "Reading package lists... Done\n",
            "Building dependency tree       \n",
            "Reading state information... Done\n",
            "The following package was automatically installed and is no longer required:\n",
            "  libnvidia-common-460\n",
            "Use 'apt autoremove' to remove it.\n",
            "The following additional packages will be installed:\n",
            "  chromium-browser chromium-browser-l10n chromium-codecs-ffmpeg-extra\n",
            "Suggested packages:\n",
            "  webaccounts-chromium-extension unity-chromium-extension\n",
            "The following NEW packages will be installed:\n",
            "  chromium-browser chromium-browser-l10n chromium-chromedriver\n",
            "  chromium-codecs-ffmpeg-extra\n",
            "0 upgraded, 4 newly installed, 0 to remove and 20 not upgraded.\n",
            "Need to get 95.6 MB of archives.\n",
            "After this operation, 321 MB of additional disk space will be used.\n",
            "Get:1 http://archive.ubuntu.com/ubuntu bionic-updates/universe amd64 chromium-codecs-ffmpeg-extra amd64 108.0.5359.71-0ubuntu0.18.04.5 [1,159 kB]\n",
            "Get:2 http://archive.ubuntu.com/ubuntu bionic-updates/universe amd64 chromium-browser amd64 108.0.5359.71-0ubuntu0.18.04.5 [83.6 MB]\n",
            "Get:3 http://archive.ubuntu.com/ubuntu bionic-updates/universe amd64 chromium-browser-l10n all 108.0.5359.71-0ubuntu0.18.04.5 [5,230 kB]\n",
            "Get:4 http://archive.ubuntu.com/ubuntu bionic-updates/universe amd64 chromium-chromedriver amd64 108.0.5359.71-0ubuntu0.18.04.5 [5,594 kB]\n",
            "Fetched 95.6 MB in 3s (29.4 MB/s)\n",
            "Selecting previously unselected package chromium-codecs-ffmpeg-extra.\n",
            "(Reading database ... 124016 files and directories currently installed.)\n",
            "Preparing to unpack .../chromium-codecs-ffmpeg-extra_108.0.5359.71-0ubuntu0.18.04.5_amd64.deb ...\n",
            "Unpacking chromium-codecs-ffmpeg-extra (108.0.5359.71-0ubuntu0.18.04.5) ...\n",
            "Selecting previously unselected package chromium-browser.\n",
            "Preparing to unpack .../chromium-browser_108.0.5359.71-0ubuntu0.18.04.5_amd64.deb ...\n",
            "Unpacking chromium-browser (108.0.5359.71-0ubuntu0.18.04.5) ...\n",
            "Selecting previously unselected package chromium-browser-l10n.\n",
            "Preparing to unpack .../chromium-browser-l10n_108.0.5359.71-0ubuntu0.18.04.5_all.deb ...\n",
            "Unpacking chromium-browser-l10n (108.0.5359.71-0ubuntu0.18.04.5) ...\n",
            "Selecting previously unselected package chromium-chromedriver.\n",
            "Preparing to unpack .../chromium-chromedriver_108.0.5359.71-0ubuntu0.18.04.5_amd64.deb ...\n",
            "Unpacking chromium-chromedriver (108.0.5359.71-0ubuntu0.18.04.5) ...\n",
            "Setting up chromium-codecs-ffmpeg-extra (108.0.5359.71-0ubuntu0.18.04.5) ...\n",
            "Setting up chromium-browser (108.0.5359.71-0ubuntu0.18.04.5) ...\n",
            "update-alternatives: using /usr/bin/chromium-browser to provide /usr/bin/x-www-browser (x-www-browser) in auto mode\n",
            "update-alternatives: using /usr/bin/chromium-browser to provide /usr/bin/gnome-www-browser (gnome-www-browser) in auto mode\n",
            "Setting up chromium-chromedriver (108.0.5359.71-0ubuntu0.18.04.5) ...\n",
            "Setting up chromium-browser-l10n (108.0.5359.71-0ubuntu0.18.04.5) ...\n",
            "Processing triggers for man-db (2.8.3-2ubuntu0.1) ...\n",
            "Processing triggers for hicolor-icon-theme (0.17-2) ...\n",
            "Processing triggers for mime-support (3.60ubuntu1) ...\n",
            "Processing triggers for libc-bin (2.27-3ubuntu1.6) ...\n"
          ]
        }
      ]
    },
    {
      "cell_type": "code",
      "execution_count": null,
      "metadata": {
        "id": "Os_KZEfWPU51"
      },
      "outputs": [],
      "source": [
        "from selenium import webdriver\n",
        "from bs4 import BeautifulSoup\n",
        "from google.colab import files\n",
        "import pandas as pd\n",
        "from time import sleep\n",
        "import traceback"
      ]
    },
    {
      "cell_type": "code",
      "source": [
        "options = webdriver.ChromeOptions()\n",
        "options.add_argument('--headless')\n",
        "options.add_argument('--no-sandbox')\n",
        "options.add_argument('--disable-dev-shm-usage')"
      ],
      "metadata": {
        "id": "MnxEMtXWPhWj"
      },
      "execution_count": null,
      "outputs": []
    },
    {
      "cell_type": "code",
      "source": [
        "wd = webdriver.Chrome('chromedriver', options=options)"
      ],
      "metadata": {
        "id": "N14kE7iEPmvG"
      },
      "execution_count": null,
      "outputs": []
    },
    {
      "cell_type": "code",
      "source": [
        "rootSite = 'https://www.wunderground.com/history/daily/id/east-jakarta/WIHH/date/2021' "
      ],
      "metadata": {
        "id": "sjRbl5aHPjSk"
      },
      "execution_count": null,
      "outputs": []
    },
    {
      "cell_type": "code",
      "source": [
        "dfAll = pd.DataFrame()"
      ],
      "metadata": {
        "id": "klum9DlDTDap"
      },
      "execution_count": null,
      "outputs": []
    },
    {
      "cell_type": "code",
      "source": [
        "# Get data in general (function)\n",
        "def getData(month, daysNumber):\n",
        "  global dfAll\n",
        "  \n",
        "  for day in range(daysNumber):\n",
        "    site = f\"{rootSite}-{month}-{day+1}\"\n",
        "    \n",
        "    try:\n",
        "      wd.get(site)\n",
        "      \n",
        "      sleep(0.5)\n",
        "      html = wd.page_source\n",
        "      sleep(0.5)      \n",
        "      df = pd.read_html(html)\n",
        "      \n",
        "      # Append data to initial dataframe\n",
        "      df[1].insert(0, \"Date\", f\"{month}-{day+1}\")\n",
        "      if day==0 and month==1:\n",
        "        dfAll = pd.concat([dfAll, df[1]])\n",
        "      else:\n",
        "        dfAll = dfAll.append(df[1], ignore_index=True)\n",
        "      \n",
        "      print(f\"{site} status: successful\")\n",
        "\n",
        "    except Exception:\n",
        "      print(f\"{site} status: failed\")\n",
        "      traceback.print_exc()"
      ],
      "metadata": {
        "id": "taqtsRiqPs43"
      },
      "execution_count": null,
      "outputs": []
    },
    {
      "cell_type": "code",
      "source": [
        "getData(1, 31) #January2021"
      ],
      "metadata": {
        "colab": {
          "base_uri": "https://localhost:8080/"
        },
        "id": "bcgTO9NgP1TZ",
        "outputId": "94b18a02-34e8-4b57-99b0-cc8f5c8d0810"
      },
      "execution_count": null,
      "outputs": [
        {
          "output_type": "stream",
          "name": "stdout",
          "text": [
            "https://www.wunderground.com/history/daily/id/east-jakarta/WIHH/date/2021-1-1 status: successful\n",
            "https://www.wunderground.com/history/daily/id/east-jakarta/WIHH/date/2021-1-2 status: successful\n",
            "https://www.wunderground.com/history/daily/id/east-jakarta/WIHH/date/2021-1-3 status: successful\n",
            "https://www.wunderground.com/history/daily/id/east-jakarta/WIHH/date/2021-1-4 status: successful\n",
            "https://www.wunderground.com/history/daily/id/east-jakarta/WIHH/date/2021-1-5 status: successful\n",
            "https://www.wunderground.com/history/daily/id/east-jakarta/WIHH/date/2021-1-6 status: successful\n",
            "https://www.wunderground.com/history/daily/id/east-jakarta/WIHH/date/2021-1-7 status: successful\n",
            "https://www.wunderground.com/history/daily/id/east-jakarta/WIHH/date/2021-1-8 status: successful\n",
            "https://www.wunderground.com/history/daily/id/east-jakarta/WIHH/date/2021-1-9 status: successful\n",
            "https://www.wunderground.com/history/daily/id/east-jakarta/WIHH/date/2021-1-10 status: successful\n",
            "https://www.wunderground.com/history/daily/id/east-jakarta/WIHH/date/2021-1-11 status: successful\n",
            "https://www.wunderground.com/history/daily/id/east-jakarta/WIHH/date/2021-1-12 status: successful\n",
            "https://www.wunderground.com/history/daily/id/east-jakarta/WIHH/date/2021-1-13 status: successful\n",
            "https://www.wunderground.com/history/daily/id/east-jakarta/WIHH/date/2021-1-14 status: successful\n",
            "https://www.wunderground.com/history/daily/id/east-jakarta/WIHH/date/2021-1-15 status: successful\n",
            "https://www.wunderground.com/history/daily/id/east-jakarta/WIHH/date/2021-1-16 status: successful\n",
            "https://www.wunderground.com/history/daily/id/east-jakarta/WIHH/date/2021-1-17 status: successful\n",
            "https://www.wunderground.com/history/daily/id/east-jakarta/WIHH/date/2021-1-18 status: successful\n",
            "https://www.wunderground.com/history/daily/id/east-jakarta/WIHH/date/2021-1-19 status: successful\n",
            "https://www.wunderground.com/history/daily/id/east-jakarta/WIHH/date/2021-1-20 status: successful\n",
            "https://www.wunderground.com/history/daily/id/east-jakarta/WIHH/date/2021-1-21 status: successful\n",
            "https://www.wunderground.com/history/daily/id/east-jakarta/WIHH/date/2021-1-22 status: successful\n",
            "https://www.wunderground.com/history/daily/id/east-jakarta/WIHH/date/2021-1-23 status: successful\n",
            "https://www.wunderground.com/history/daily/id/east-jakarta/WIHH/date/2021-1-24 status: successful\n",
            "https://www.wunderground.com/history/daily/id/east-jakarta/WIHH/date/2021-1-25 status: successful\n",
            "https://www.wunderground.com/history/daily/id/east-jakarta/WIHH/date/2021-1-26 status: successful\n",
            "https://www.wunderground.com/history/daily/id/east-jakarta/WIHH/date/2021-1-27 status: successful\n",
            "https://www.wunderground.com/history/daily/id/east-jakarta/WIHH/date/2021-1-28 status: successful\n",
            "https://www.wunderground.com/history/daily/id/east-jakarta/WIHH/date/2021-1-29 status: successful\n",
            "https://www.wunderground.com/history/daily/id/east-jakarta/WIHH/date/2021-1-30 status: successful\n",
            "https://www.wunderground.com/history/daily/id/east-jakarta/WIHH/date/2021-1-31 status: successful\n"
          ]
        }
      ]
    },
    {
      "cell_type": "code",
      "source": [
        "print(dfAll)"
      ],
      "metadata": {
        "colab": {
          "base_uri": "https://localhost:8080/"
        },
        "id": "9X9njnaHemUC",
        "outputId": "9407f8ac-7365-4b07-c6b0-e94bd1ba2c08"
      },
      "execution_count": null,
      "outputs": [
        {
          "output_type": "stream",
          "name": "stdout",
          "text": [
            "      Date     Time Temperature Dew Point Humidity Wind Wind Speed Wind Gust  \\\n",
            "0      1-1  4:00 AM       77 °F     73 °F    89 °%    W     6 °mph    0 °mph   \n",
            "1      1-1  4:30 AM       77 °F     73 °F    89 °%   SW     5 °mph    0 °mph   \n",
            "2      1-1  5:00 AM       77 °F     73 °F    89 °%  WSW     3 °mph    0 °mph   \n",
            "3      1-1  5:30 AM       77 °F     73 °F    89 °%    W     5 °mph    0 °mph   \n",
            "4      1-1  6:00 AM       75 °F     73 °F    94 °%    W     5 °mph    0 °mph   \n",
            "...    ...      ...         ...       ...      ...  ...        ...       ...   \n",
            "1315  1-31      NaN         NaN       NaN      NaN  NaN        NaN       NaN   \n",
            "1316  1-31      NaN         NaN       NaN      NaN  NaN        NaN       NaN   \n",
            "1317  1-31      NaN         NaN       NaN      NaN  NaN        NaN       NaN   \n",
            "1318  1-31      NaN         NaN       NaN      NaN  NaN        NaN       NaN   \n",
            "1319  1-31      NaN         NaN       NaN      NaN  NaN        NaN       NaN   \n",
            "\n",
            "       Pressure  Precip. Condition  \n",
            "0     29.67 °in  0.0 °in      Haze  \n",
            "1     29.67 °in  0.0 °in      Haze  \n",
            "2     29.67 °in  0.0 °in      Haze  \n",
            "3     29.67 °in  0.0 °in      Haze  \n",
            "4     29.67 °in  0.0 °in      Haze  \n",
            "...         ...      ...       ...  \n",
            "1315        NaN      NaN       NaN  \n",
            "1316        NaN      NaN       NaN  \n",
            "1317        NaN      NaN       NaN  \n",
            "1318        NaN      NaN       NaN  \n",
            "1319        NaN      NaN       NaN  \n",
            "\n",
            "[1320 rows x 11 columns]\n"
          ]
        }
      ]
    },
    {
      "cell_type": "code",
      "source": [
        "getData(2, 28) #February2021"
      ],
      "metadata": {
        "colab": {
          "base_uri": "https://localhost:8080/"
        },
        "id": "YU5HugFvdafX",
        "outputId": "67d0e692-e6cd-4f54-b38d-df6a5197073c"
      },
      "execution_count": null,
      "outputs": [
        {
          "output_type": "stream",
          "name": "stdout",
          "text": [
            "https://www.wunderground.com/history/daily/id/east-jakarta/WIHH/date/2021-2-1 status: successful\n",
            "https://www.wunderground.com/history/daily/id/east-jakarta/WIHH/date/2021-2-2 status: successful\n",
            "https://www.wunderground.com/history/daily/id/east-jakarta/WIHH/date/2021-2-3 status: successful\n",
            "https://www.wunderground.com/history/daily/id/east-jakarta/WIHH/date/2021-2-4 status: successful\n",
            "https://www.wunderground.com/history/daily/id/east-jakarta/WIHH/date/2021-2-5 status: successful\n",
            "https://www.wunderground.com/history/daily/id/east-jakarta/WIHH/date/2021-2-6 status: successful\n",
            "https://www.wunderground.com/history/daily/id/east-jakarta/WIHH/date/2021-2-7 status: successful\n",
            "https://www.wunderground.com/history/daily/id/east-jakarta/WIHH/date/2021-2-8 status: successful\n",
            "https://www.wunderground.com/history/daily/id/east-jakarta/WIHH/date/2021-2-9 status: successful\n",
            "https://www.wunderground.com/history/daily/id/east-jakarta/WIHH/date/2021-2-10 status: successful\n",
            "https://www.wunderground.com/history/daily/id/east-jakarta/WIHH/date/2021-2-11 status: successful\n",
            "https://www.wunderground.com/history/daily/id/east-jakarta/WIHH/date/2021-2-12 status: successful\n",
            "https://www.wunderground.com/history/daily/id/east-jakarta/WIHH/date/2021-2-13 status: successful\n",
            "https://www.wunderground.com/history/daily/id/east-jakarta/WIHH/date/2021-2-14 status: successful\n",
            "https://www.wunderground.com/history/daily/id/east-jakarta/WIHH/date/2021-2-15 status: successful\n",
            "https://www.wunderground.com/history/daily/id/east-jakarta/WIHH/date/2021-2-16 status: successful\n",
            "https://www.wunderground.com/history/daily/id/east-jakarta/WIHH/date/2021-2-17 status: successful\n",
            "https://www.wunderground.com/history/daily/id/east-jakarta/WIHH/date/2021-2-18 status: successful\n",
            "https://www.wunderground.com/history/daily/id/east-jakarta/WIHH/date/2021-2-19 status: successful\n",
            "https://www.wunderground.com/history/daily/id/east-jakarta/WIHH/date/2021-2-20 status: successful\n",
            "https://www.wunderground.com/history/daily/id/east-jakarta/WIHH/date/2021-2-21 status: successful\n",
            "https://www.wunderground.com/history/daily/id/east-jakarta/WIHH/date/2021-2-22 status: successful\n",
            "https://www.wunderground.com/history/daily/id/east-jakarta/WIHH/date/2021-2-23 status: successful\n",
            "https://www.wunderground.com/history/daily/id/east-jakarta/WIHH/date/2021-2-24 status: failed\n"
          ]
        },
        {
          "output_type": "stream",
          "name": "stderr",
          "text": [
            "Traceback (most recent call last):\n",
            "  File \"<ipython-input-6-aa934bc446d1>\", line 14, in getData\n",
            "    df = pd.read_html(html)\n",
            "  File \"/usr/local/lib/python3.8/dist-packages/pandas/util/_decorators.py\", line 311, in wrapper\n",
            "    return func(*args, **kwargs)\n",
            "  File \"/usr/local/lib/python3.8/dist-packages/pandas/io/html.py\", line 1098, in read_html\n",
            "    return _parse(\n",
            "  File \"/usr/local/lib/python3.8/dist-packages/pandas/io/html.py\", line 926, in _parse\n",
            "    raise retained\n",
            "  File \"/usr/local/lib/python3.8/dist-packages/pandas/io/html.py\", line 906, in _parse\n",
            "    tables = p.parse_tables()\n",
            "  File \"/usr/local/lib/python3.8/dist-packages/pandas/io/html.py\", line 222, in parse_tables\n",
            "    tables = self._parse_tables(self._build_doc(), self.match, self.attrs)\n",
            "  File \"/usr/local/lib/python3.8/dist-packages/pandas/io/html.py\", line 552, in _parse_tables\n",
            "    raise ValueError(\"No tables found\")\n",
            "ValueError: No tables found\n"
          ]
        },
        {
          "output_type": "stream",
          "name": "stdout",
          "text": [
            "https://www.wunderground.com/history/daily/id/east-jakarta/WIHH/date/2021-2-25 status: failed\n"
          ]
        },
        {
          "output_type": "stream",
          "name": "stderr",
          "text": [
            "Traceback (most recent call last):\n",
            "  File \"<ipython-input-6-aa934bc446d1>\", line 14, in getData\n",
            "    df = pd.read_html(html)\n",
            "  File \"/usr/local/lib/python3.8/dist-packages/pandas/util/_decorators.py\", line 311, in wrapper\n",
            "    return func(*args, **kwargs)\n",
            "  File \"/usr/local/lib/python3.8/dist-packages/pandas/io/html.py\", line 1098, in read_html\n",
            "    return _parse(\n",
            "  File \"/usr/local/lib/python3.8/dist-packages/pandas/io/html.py\", line 926, in _parse\n",
            "    raise retained\n",
            "  File \"/usr/local/lib/python3.8/dist-packages/pandas/io/html.py\", line 906, in _parse\n",
            "    tables = p.parse_tables()\n",
            "  File \"/usr/local/lib/python3.8/dist-packages/pandas/io/html.py\", line 222, in parse_tables\n",
            "    tables = self._parse_tables(self._build_doc(), self.match, self.attrs)\n",
            "  File \"/usr/local/lib/python3.8/dist-packages/pandas/io/html.py\", line 552, in _parse_tables\n",
            "    raise ValueError(\"No tables found\")\n",
            "ValueError: No tables found\n"
          ]
        },
        {
          "output_type": "stream",
          "name": "stdout",
          "text": [
            "https://www.wunderground.com/history/daily/id/east-jakarta/WIHH/date/2021-2-26 status: failed\n"
          ]
        },
        {
          "output_type": "stream",
          "name": "stderr",
          "text": [
            "Traceback (most recent call last):\n",
            "  File \"<ipython-input-6-aa934bc446d1>\", line 14, in getData\n",
            "    df = pd.read_html(html)\n",
            "  File \"/usr/local/lib/python3.8/dist-packages/pandas/util/_decorators.py\", line 311, in wrapper\n",
            "    return func(*args, **kwargs)\n",
            "  File \"/usr/local/lib/python3.8/dist-packages/pandas/io/html.py\", line 1098, in read_html\n",
            "    return _parse(\n",
            "  File \"/usr/local/lib/python3.8/dist-packages/pandas/io/html.py\", line 926, in _parse\n",
            "    raise retained\n",
            "  File \"/usr/local/lib/python3.8/dist-packages/pandas/io/html.py\", line 906, in _parse\n",
            "    tables = p.parse_tables()\n",
            "  File \"/usr/local/lib/python3.8/dist-packages/pandas/io/html.py\", line 222, in parse_tables\n",
            "    tables = self._parse_tables(self._build_doc(), self.match, self.attrs)\n",
            "  File \"/usr/local/lib/python3.8/dist-packages/pandas/io/html.py\", line 552, in _parse_tables\n",
            "    raise ValueError(\"No tables found\")\n",
            "ValueError: No tables found\n"
          ]
        },
        {
          "output_type": "stream",
          "name": "stdout",
          "text": [
            "https://www.wunderground.com/history/daily/id/east-jakarta/WIHH/date/2021-2-27 status: failed\n"
          ]
        },
        {
          "output_type": "stream",
          "name": "stderr",
          "text": [
            "Traceback (most recent call last):\n",
            "  File \"<ipython-input-6-aa934bc446d1>\", line 14, in getData\n",
            "    df = pd.read_html(html)\n",
            "  File \"/usr/local/lib/python3.8/dist-packages/pandas/util/_decorators.py\", line 311, in wrapper\n",
            "    return func(*args, **kwargs)\n",
            "  File \"/usr/local/lib/python3.8/dist-packages/pandas/io/html.py\", line 1098, in read_html\n",
            "    return _parse(\n",
            "  File \"/usr/local/lib/python3.8/dist-packages/pandas/io/html.py\", line 926, in _parse\n",
            "    raise retained\n",
            "  File \"/usr/local/lib/python3.8/dist-packages/pandas/io/html.py\", line 906, in _parse\n",
            "    tables = p.parse_tables()\n",
            "  File \"/usr/local/lib/python3.8/dist-packages/pandas/io/html.py\", line 222, in parse_tables\n",
            "    tables = self._parse_tables(self._build_doc(), self.match, self.attrs)\n",
            "  File \"/usr/local/lib/python3.8/dist-packages/pandas/io/html.py\", line 552, in _parse_tables\n",
            "    raise ValueError(\"No tables found\")\n",
            "ValueError: No tables found\n"
          ]
        },
        {
          "output_type": "stream",
          "name": "stdout",
          "text": [
            "https://www.wunderground.com/history/daily/id/east-jakarta/WIHH/date/2021-2-28 status: failed\n"
          ]
        },
        {
          "output_type": "stream",
          "name": "stderr",
          "text": [
            "Traceback (most recent call last):\n",
            "  File \"<ipython-input-6-aa934bc446d1>\", line 14, in getData\n",
            "    df = pd.read_html(html)\n",
            "  File \"/usr/local/lib/python3.8/dist-packages/pandas/util/_decorators.py\", line 311, in wrapper\n",
            "    return func(*args, **kwargs)\n",
            "  File \"/usr/local/lib/python3.8/dist-packages/pandas/io/html.py\", line 1098, in read_html\n",
            "    return _parse(\n",
            "  File \"/usr/local/lib/python3.8/dist-packages/pandas/io/html.py\", line 926, in _parse\n",
            "    raise retained\n",
            "  File \"/usr/local/lib/python3.8/dist-packages/pandas/io/html.py\", line 906, in _parse\n",
            "    tables = p.parse_tables()\n",
            "  File \"/usr/local/lib/python3.8/dist-packages/pandas/io/html.py\", line 222, in parse_tables\n",
            "    tables = self._parse_tables(self._build_doc(), self.match, self.attrs)\n",
            "  File \"/usr/local/lib/python3.8/dist-packages/pandas/io/html.py\", line 552, in _parse_tables\n",
            "    raise ValueError(\"No tables found\")\n",
            "ValueError: No tables found\n"
          ]
        }
      ]
    },
    {
      "cell_type": "code",
      "source": [
        "print(dfAll)"
      ],
      "metadata": {
        "colab": {
          "base_uri": "https://localhost:8080/"
        },
        "id": "S03pR3zZQCRc",
        "outputId": "e293a13f-a9b0-4ab2-f553-8a5dcd08917f"
      },
      "execution_count": null,
      "outputs": [
        {
          "output_type": "stream",
          "name": "stdout",
          "text": [
            "      Date     Time Temperature Dew Point Humidity Wind Wind Speed Wind Gust  \\\n",
            "0      1-1  4:00 AM       77 °F     73 °F    89 °%    W     6 °mph    0 °mph   \n",
            "1      1-1  4:30 AM       77 °F     73 °F    89 °%   SW     5 °mph    0 °mph   \n",
            "2      1-1  5:00 AM       77 °F     73 °F    89 °%  WSW     3 °mph    0 °mph   \n",
            "3      1-1  5:30 AM       77 °F     73 °F    89 °%    W     5 °mph    0 °mph   \n",
            "4      1-1  6:00 AM       75 °F     73 °F    94 °%    W     5 °mph    0 °mph   \n",
            "...    ...      ...         ...       ...      ...  ...        ...       ...   \n",
            "2316  2-23      NaN         NaN       NaN      NaN  NaN        NaN       NaN   \n",
            "2317  2-23      NaN         NaN       NaN      NaN  NaN        NaN       NaN   \n",
            "2318  2-23      NaN         NaN       NaN      NaN  NaN        NaN       NaN   \n",
            "2319  2-23      NaN         NaN       NaN      NaN  NaN        NaN       NaN   \n",
            "2320  2-23      NaN         NaN       NaN      NaN  NaN        NaN       NaN   \n",
            "\n",
            "       Pressure  Precip. Condition  \n",
            "0     29.67 °in  0.0 °in      Haze  \n",
            "1     29.67 °in  0.0 °in      Haze  \n",
            "2     29.67 °in  0.0 °in      Haze  \n",
            "3     29.67 °in  0.0 °in      Haze  \n",
            "4     29.67 °in  0.0 °in      Haze  \n",
            "...         ...      ...       ...  \n",
            "2316        NaN      NaN       NaN  \n",
            "2317        NaN      NaN       NaN  \n",
            "2318        NaN      NaN       NaN  \n",
            "2319        NaN      NaN       NaN  \n",
            "2320        NaN      NaN       NaN  \n",
            "\n",
            "[2321 rows x 11 columns]\n"
          ]
        }
      ]
    },
    {
      "cell_type": "code",
      "source": [
        "getData(3, 31) #March2021"
      ],
      "metadata": {
        "id": "v5nRjyN-db4o",
        "colab": {
          "base_uri": "https://localhost:8080/"
        },
        "outputId": "962f1314-59fc-42b3-b295-e28fb923120d"
      },
      "execution_count": null,
      "outputs": [
        {
          "output_type": "stream",
          "name": "stdout",
          "text": [
            "https://www.wunderground.com/history/daily/id/east-jakarta/WIHH/date/2021-3-1 status: failed\n"
          ]
        },
        {
          "output_type": "stream",
          "name": "stderr",
          "text": [
            "Traceback (most recent call last):\n",
            "  File \"<ipython-input-6-aa934bc446d1>\", line 14, in getData\n",
            "    df = pd.read_html(html)\n",
            "  File \"/usr/local/lib/python3.8/dist-packages/pandas/util/_decorators.py\", line 311, in wrapper\n",
            "    return func(*args, **kwargs)\n",
            "  File \"/usr/local/lib/python3.8/dist-packages/pandas/io/html.py\", line 1098, in read_html\n",
            "    return _parse(\n",
            "  File \"/usr/local/lib/python3.8/dist-packages/pandas/io/html.py\", line 926, in _parse\n",
            "    raise retained\n",
            "  File \"/usr/local/lib/python3.8/dist-packages/pandas/io/html.py\", line 906, in _parse\n",
            "    tables = p.parse_tables()\n",
            "  File \"/usr/local/lib/python3.8/dist-packages/pandas/io/html.py\", line 222, in parse_tables\n",
            "    tables = self._parse_tables(self._build_doc(), self.match, self.attrs)\n",
            "  File \"/usr/local/lib/python3.8/dist-packages/pandas/io/html.py\", line 552, in _parse_tables\n",
            "    raise ValueError(\"No tables found\")\n",
            "ValueError: No tables found\n"
          ]
        },
        {
          "output_type": "stream",
          "name": "stdout",
          "text": [
            "https://www.wunderground.com/history/daily/id/east-jakarta/WIHH/date/2021-3-2 status: failed\n"
          ]
        },
        {
          "output_type": "stream",
          "name": "stderr",
          "text": [
            "Traceback (most recent call last):\n",
            "  File \"<ipython-input-6-aa934bc446d1>\", line 14, in getData\n",
            "    df = pd.read_html(html)\n",
            "  File \"/usr/local/lib/python3.8/dist-packages/pandas/util/_decorators.py\", line 311, in wrapper\n",
            "    return func(*args, **kwargs)\n",
            "  File \"/usr/local/lib/python3.8/dist-packages/pandas/io/html.py\", line 1098, in read_html\n",
            "    return _parse(\n",
            "  File \"/usr/local/lib/python3.8/dist-packages/pandas/io/html.py\", line 926, in _parse\n",
            "    raise retained\n",
            "  File \"/usr/local/lib/python3.8/dist-packages/pandas/io/html.py\", line 906, in _parse\n",
            "    tables = p.parse_tables()\n",
            "  File \"/usr/local/lib/python3.8/dist-packages/pandas/io/html.py\", line 222, in parse_tables\n",
            "    tables = self._parse_tables(self._build_doc(), self.match, self.attrs)\n",
            "  File \"/usr/local/lib/python3.8/dist-packages/pandas/io/html.py\", line 552, in _parse_tables\n",
            "    raise ValueError(\"No tables found\")\n",
            "ValueError: No tables found\n"
          ]
        },
        {
          "output_type": "stream",
          "name": "stdout",
          "text": [
            "https://www.wunderground.com/history/daily/id/east-jakarta/WIHH/date/2021-3-3 status: failed\n"
          ]
        },
        {
          "output_type": "stream",
          "name": "stderr",
          "text": [
            "Traceback (most recent call last):\n",
            "  File \"<ipython-input-6-aa934bc446d1>\", line 14, in getData\n",
            "    df = pd.read_html(html)\n",
            "  File \"/usr/local/lib/python3.8/dist-packages/pandas/util/_decorators.py\", line 311, in wrapper\n",
            "    return func(*args, **kwargs)\n",
            "  File \"/usr/local/lib/python3.8/dist-packages/pandas/io/html.py\", line 1098, in read_html\n",
            "    return _parse(\n",
            "  File \"/usr/local/lib/python3.8/dist-packages/pandas/io/html.py\", line 926, in _parse\n",
            "    raise retained\n",
            "  File \"/usr/local/lib/python3.8/dist-packages/pandas/io/html.py\", line 906, in _parse\n",
            "    tables = p.parse_tables()\n",
            "  File \"/usr/local/lib/python3.8/dist-packages/pandas/io/html.py\", line 222, in parse_tables\n",
            "    tables = self._parse_tables(self._build_doc(), self.match, self.attrs)\n",
            "  File \"/usr/local/lib/python3.8/dist-packages/pandas/io/html.py\", line 552, in _parse_tables\n",
            "    raise ValueError(\"No tables found\")\n",
            "ValueError: No tables found\n"
          ]
        },
        {
          "output_type": "stream",
          "name": "stdout",
          "text": [
            "https://www.wunderground.com/history/daily/id/east-jakarta/WIHH/date/2021-3-4 status: failed\n"
          ]
        },
        {
          "output_type": "stream",
          "name": "stderr",
          "text": [
            "Traceback (most recent call last):\n",
            "  File \"<ipython-input-6-aa934bc446d1>\", line 14, in getData\n",
            "    df = pd.read_html(html)\n",
            "  File \"/usr/local/lib/python3.8/dist-packages/pandas/util/_decorators.py\", line 311, in wrapper\n",
            "    return func(*args, **kwargs)\n",
            "  File \"/usr/local/lib/python3.8/dist-packages/pandas/io/html.py\", line 1098, in read_html\n",
            "    return _parse(\n",
            "  File \"/usr/local/lib/python3.8/dist-packages/pandas/io/html.py\", line 926, in _parse\n",
            "    raise retained\n",
            "  File \"/usr/local/lib/python3.8/dist-packages/pandas/io/html.py\", line 906, in _parse\n",
            "    tables = p.parse_tables()\n",
            "  File \"/usr/local/lib/python3.8/dist-packages/pandas/io/html.py\", line 222, in parse_tables\n",
            "    tables = self._parse_tables(self._build_doc(), self.match, self.attrs)\n",
            "  File \"/usr/local/lib/python3.8/dist-packages/pandas/io/html.py\", line 552, in _parse_tables\n",
            "    raise ValueError(\"No tables found\")\n",
            "ValueError: No tables found\n"
          ]
        },
        {
          "output_type": "stream",
          "name": "stdout",
          "text": [
            "https://www.wunderground.com/history/daily/id/east-jakarta/WIHH/date/2021-3-5 status: failed\n"
          ]
        },
        {
          "output_type": "stream",
          "name": "stderr",
          "text": [
            "Traceback (most recent call last):\n",
            "  File \"<ipython-input-6-aa934bc446d1>\", line 14, in getData\n",
            "    df = pd.read_html(html)\n",
            "  File \"/usr/local/lib/python3.8/dist-packages/pandas/util/_decorators.py\", line 311, in wrapper\n",
            "    return func(*args, **kwargs)\n",
            "  File \"/usr/local/lib/python3.8/dist-packages/pandas/io/html.py\", line 1098, in read_html\n",
            "    return _parse(\n",
            "  File \"/usr/local/lib/python3.8/dist-packages/pandas/io/html.py\", line 926, in _parse\n",
            "    raise retained\n",
            "  File \"/usr/local/lib/python3.8/dist-packages/pandas/io/html.py\", line 906, in _parse\n",
            "    tables = p.parse_tables()\n",
            "  File \"/usr/local/lib/python3.8/dist-packages/pandas/io/html.py\", line 222, in parse_tables\n",
            "    tables = self._parse_tables(self._build_doc(), self.match, self.attrs)\n",
            "  File \"/usr/local/lib/python3.8/dist-packages/pandas/io/html.py\", line 552, in _parse_tables\n",
            "    raise ValueError(\"No tables found\")\n",
            "ValueError: No tables found\n"
          ]
        },
        {
          "output_type": "stream",
          "name": "stdout",
          "text": [
            "https://www.wunderground.com/history/daily/id/east-jakarta/WIHH/date/2021-3-6 status: failed\n"
          ]
        },
        {
          "output_type": "stream",
          "name": "stderr",
          "text": [
            "Traceback (most recent call last):\n",
            "  File \"<ipython-input-6-aa934bc446d1>\", line 14, in getData\n",
            "    df = pd.read_html(html)\n",
            "  File \"/usr/local/lib/python3.8/dist-packages/pandas/util/_decorators.py\", line 311, in wrapper\n",
            "    return func(*args, **kwargs)\n",
            "  File \"/usr/local/lib/python3.8/dist-packages/pandas/io/html.py\", line 1098, in read_html\n",
            "    return _parse(\n",
            "  File \"/usr/local/lib/python3.8/dist-packages/pandas/io/html.py\", line 926, in _parse\n",
            "    raise retained\n",
            "  File \"/usr/local/lib/python3.8/dist-packages/pandas/io/html.py\", line 906, in _parse\n",
            "    tables = p.parse_tables()\n",
            "  File \"/usr/local/lib/python3.8/dist-packages/pandas/io/html.py\", line 222, in parse_tables\n",
            "    tables = self._parse_tables(self._build_doc(), self.match, self.attrs)\n",
            "  File \"/usr/local/lib/python3.8/dist-packages/pandas/io/html.py\", line 552, in _parse_tables\n",
            "    raise ValueError(\"No tables found\")\n",
            "ValueError: No tables found\n"
          ]
        },
        {
          "output_type": "stream",
          "name": "stdout",
          "text": [
            "https://www.wunderground.com/history/daily/id/east-jakarta/WIHH/date/2021-3-7 status: failed\n"
          ]
        },
        {
          "output_type": "stream",
          "name": "stderr",
          "text": [
            "Traceback (most recent call last):\n",
            "  File \"<ipython-input-6-aa934bc446d1>\", line 14, in getData\n",
            "    df = pd.read_html(html)\n",
            "  File \"/usr/local/lib/python3.8/dist-packages/pandas/util/_decorators.py\", line 311, in wrapper\n",
            "    return func(*args, **kwargs)\n",
            "  File \"/usr/local/lib/python3.8/dist-packages/pandas/io/html.py\", line 1098, in read_html\n",
            "    return _parse(\n",
            "  File \"/usr/local/lib/python3.8/dist-packages/pandas/io/html.py\", line 926, in _parse\n",
            "    raise retained\n",
            "  File \"/usr/local/lib/python3.8/dist-packages/pandas/io/html.py\", line 906, in _parse\n",
            "    tables = p.parse_tables()\n",
            "  File \"/usr/local/lib/python3.8/dist-packages/pandas/io/html.py\", line 222, in parse_tables\n",
            "    tables = self._parse_tables(self._build_doc(), self.match, self.attrs)\n",
            "  File \"/usr/local/lib/python3.8/dist-packages/pandas/io/html.py\", line 552, in _parse_tables\n",
            "    raise ValueError(\"No tables found\")\n",
            "ValueError: No tables found\n"
          ]
        },
        {
          "output_type": "stream",
          "name": "stdout",
          "text": [
            "https://www.wunderground.com/history/daily/id/east-jakarta/WIHH/date/2021-3-8 status: successful\n",
            "https://www.wunderground.com/history/daily/id/east-jakarta/WIHH/date/2021-3-9 status: successful\n",
            "https://www.wunderground.com/history/daily/id/east-jakarta/WIHH/date/2021-3-10 status: successful\n",
            "https://www.wunderground.com/history/daily/id/east-jakarta/WIHH/date/2021-3-11 status: successful\n",
            "https://www.wunderground.com/history/daily/id/east-jakarta/WIHH/date/2021-3-12 status: successful\n",
            "https://www.wunderground.com/history/daily/id/east-jakarta/WIHH/date/2021-3-13 status: successful\n",
            "https://www.wunderground.com/history/daily/id/east-jakarta/WIHH/date/2021-3-14 status: successful\n",
            "https://www.wunderground.com/history/daily/id/east-jakarta/WIHH/date/2021-3-15 status: successful\n",
            "https://www.wunderground.com/history/daily/id/east-jakarta/WIHH/date/2021-3-16 status: successful\n",
            "https://www.wunderground.com/history/daily/id/east-jakarta/WIHH/date/2021-3-17 status: successful\n",
            "https://www.wunderground.com/history/daily/id/east-jakarta/WIHH/date/2021-3-18 status: successful\n",
            "https://www.wunderground.com/history/daily/id/east-jakarta/WIHH/date/2021-3-19 status: successful\n",
            "https://www.wunderground.com/history/daily/id/east-jakarta/WIHH/date/2021-3-20 status: successful\n",
            "https://www.wunderground.com/history/daily/id/east-jakarta/WIHH/date/2021-3-21 status: successful\n",
            "https://www.wunderground.com/history/daily/id/east-jakarta/WIHH/date/2021-3-22 status: successful\n",
            "https://www.wunderground.com/history/daily/id/east-jakarta/WIHH/date/2021-3-23 status: successful\n",
            "https://www.wunderground.com/history/daily/id/east-jakarta/WIHH/date/2021-3-24 status: successful\n",
            "https://www.wunderground.com/history/daily/id/east-jakarta/WIHH/date/2021-3-25 status: successful\n",
            "https://www.wunderground.com/history/daily/id/east-jakarta/WIHH/date/2021-3-26 status: successful\n",
            "https://www.wunderground.com/history/daily/id/east-jakarta/WIHH/date/2021-3-27 status: successful\n",
            "https://www.wunderground.com/history/daily/id/east-jakarta/WIHH/date/2021-3-28 status: successful\n",
            "https://www.wunderground.com/history/daily/id/east-jakarta/WIHH/date/2021-3-29 status: successful\n",
            "https://www.wunderground.com/history/daily/id/east-jakarta/WIHH/date/2021-3-30 status: successful\n",
            "https://www.wunderground.com/history/daily/id/east-jakarta/WIHH/date/2021-3-31 status: successful\n"
          ]
        }
      ]
    },
    {
      "cell_type": "code",
      "source": [
        "print(dfAll)"
      ],
      "metadata": {
        "colab": {
          "base_uri": "https://localhost:8080/"
        },
        "id": "KCijHk4_Q1Jt",
        "outputId": "defb044c-cbec-4d53-e96d-c90c734207b2"
      },
      "execution_count": null,
      "outputs": [
        {
          "output_type": "stream",
          "name": "stdout",
          "text": [
            "      Date     Time Temperature Dew Point Humidity Wind Wind Speed Wind Gust  \\\n",
            "0      1-1  4:00 AM       77 °F     73 °F    89 °%    W     6 °mph    0 °mph   \n",
            "1      1-1  4:30 AM       77 °F     73 °F    89 °%   SW     5 °mph    0 °mph   \n",
            "2      1-1  5:00 AM       77 °F     73 °F    89 °%  WSW     3 °mph    0 °mph   \n",
            "3      1-1  5:30 AM       77 °F     73 °F    89 °%    W     5 °mph    0 °mph   \n",
            "4      1-1  6:00 AM       75 °F     73 °F    94 °%    W     5 °mph    0 °mph   \n",
            "...    ...      ...         ...       ...      ...  ...        ...       ...   \n",
            "3236  3-31      NaN         NaN       NaN      NaN  NaN        NaN       NaN   \n",
            "3237  3-31      NaN         NaN       NaN      NaN  NaN        NaN       NaN   \n",
            "3238  3-31      NaN         NaN       NaN      NaN  NaN        NaN       NaN   \n",
            "3239  3-31      NaN         NaN       NaN      NaN  NaN        NaN       NaN   \n",
            "3240  3-31      NaN         NaN       NaN      NaN  NaN        NaN       NaN   \n",
            "\n",
            "       Pressure  Precip. Condition  \n",
            "0     29.67 °in  0.0 °in      Haze  \n",
            "1     29.67 °in  0.0 °in      Haze  \n",
            "2     29.67 °in  0.0 °in      Haze  \n",
            "3     29.67 °in  0.0 °in      Haze  \n",
            "4     29.67 °in  0.0 °in      Haze  \n",
            "...         ...      ...       ...  \n",
            "3236        NaN      NaN       NaN  \n",
            "3237        NaN      NaN       NaN  \n",
            "3238        NaN      NaN       NaN  \n",
            "3239        NaN      NaN       NaN  \n",
            "3240        NaN      NaN       NaN  \n",
            "\n",
            "[3241 rows x 11 columns]\n"
          ]
        }
      ]
    },
    {
      "cell_type": "code",
      "source": [
        "getData(4, 30) #April2021"
      ],
      "metadata": {
        "id": "RTkgSqyyddm8",
        "colab": {
          "base_uri": "https://localhost:8080/"
        },
        "outputId": "7b972448-12c5-4dbe-af99-313d850dcdc4"
      },
      "execution_count": null,
      "outputs": [
        {
          "output_type": "stream",
          "name": "stdout",
          "text": [
            "https://www.wunderground.com/history/daily/id/east-jakarta/WIHH/date/2021-4-1 status: successful\n",
            "https://www.wunderground.com/history/daily/id/east-jakarta/WIHH/date/2021-4-2 status: successful\n",
            "https://www.wunderground.com/history/daily/id/east-jakarta/WIHH/date/2021-4-3 status: successful\n",
            "https://www.wunderground.com/history/daily/id/east-jakarta/WIHH/date/2021-4-4 status: successful\n",
            "https://www.wunderground.com/history/daily/id/east-jakarta/WIHH/date/2021-4-5 status: successful\n",
            "https://www.wunderground.com/history/daily/id/east-jakarta/WIHH/date/2021-4-6 status: successful\n",
            "https://www.wunderground.com/history/daily/id/east-jakarta/WIHH/date/2021-4-7 status: successful\n",
            "https://www.wunderground.com/history/daily/id/east-jakarta/WIHH/date/2021-4-8 status: successful\n",
            "https://www.wunderground.com/history/daily/id/east-jakarta/WIHH/date/2021-4-9 status: successful\n",
            "https://www.wunderground.com/history/daily/id/east-jakarta/WIHH/date/2021-4-10 status: successful\n",
            "https://www.wunderground.com/history/daily/id/east-jakarta/WIHH/date/2021-4-11 status: successful\n",
            "https://www.wunderground.com/history/daily/id/east-jakarta/WIHH/date/2021-4-12 status: successful\n",
            "https://www.wunderground.com/history/daily/id/east-jakarta/WIHH/date/2021-4-13 status: successful\n",
            "https://www.wunderground.com/history/daily/id/east-jakarta/WIHH/date/2021-4-14 status: successful\n",
            "https://www.wunderground.com/history/daily/id/east-jakarta/WIHH/date/2021-4-15 status: successful\n",
            "https://www.wunderground.com/history/daily/id/east-jakarta/WIHH/date/2021-4-16 status: successful\n",
            "https://www.wunderground.com/history/daily/id/east-jakarta/WIHH/date/2021-4-17 status: successful\n",
            "https://www.wunderground.com/history/daily/id/east-jakarta/WIHH/date/2021-4-18 status: successful\n",
            "https://www.wunderground.com/history/daily/id/east-jakarta/WIHH/date/2021-4-19 status: successful\n",
            "https://www.wunderground.com/history/daily/id/east-jakarta/WIHH/date/2021-4-20 status: successful\n",
            "https://www.wunderground.com/history/daily/id/east-jakarta/WIHH/date/2021-4-21 status: successful\n",
            "https://www.wunderground.com/history/daily/id/east-jakarta/WIHH/date/2021-4-22 status: successful\n",
            "https://www.wunderground.com/history/daily/id/east-jakarta/WIHH/date/2021-4-23 status: successful\n",
            "https://www.wunderground.com/history/daily/id/east-jakarta/WIHH/date/2021-4-24 status: successful\n",
            "https://www.wunderground.com/history/daily/id/east-jakarta/WIHH/date/2021-4-25 status: successful\n",
            "https://www.wunderground.com/history/daily/id/east-jakarta/WIHH/date/2021-4-26 status: successful\n",
            "https://www.wunderground.com/history/daily/id/east-jakarta/WIHH/date/2021-4-27 status: successful\n",
            "https://www.wunderground.com/history/daily/id/east-jakarta/WIHH/date/2021-4-28 status: successful\n",
            "https://www.wunderground.com/history/daily/id/east-jakarta/WIHH/date/2021-4-29 status: successful\n",
            "https://www.wunderground.com/history/daily/id/east-jakarta/WIHH/date/2021-4-30 status: successful\n"
          ]
        }
      ]
    },
    {
      "cell_type": "code",
      "source": [
        "print(dfAll)"
      ],
      "metadata": {
        "colab": {
          "base_uri": "https://localhost:8080/"
        },
        "id": "yoba2QmpRIF3",
        "outputId": "c8be6a51-48d0-4ab3-be33-b492d9b6a916"
      },
      "execution_count": null,
      "outputs": [
        {
          "output_type": "stream",
          "name": "stdout",
          "text": [
            "      Date     Time Temperature Dew Point Humidity Wind Wind Speed Wind Gust  \\\n",
            "0      1-1  4:00 AM       77 °F     73 °F    89 °%    W     6 °mph    0 °mph   \n",
            "1      1-1  4:30 AM       77 °F     73 °F    89 °%   SW     5 °mph    0 °mph   \n",
            "2      1-1  5:00 AM       77 °F     73 °F    89 °%  WSW     3 °mph    0 °mph   \n",
            "3      1-1  5:30 AM       77 °F     73 °F    89 °%    W     5 °mph    0 °mph   \n",
            "4      1-1  6:00 AM       75 °F     73 °F    94 °%    W     5 °mph    0 °mph   \n",
            "...    ...      ...         ...       ...      ...  ...        ...       ...   \n",
            "4461  4-30      NaN         NaN       NaN      NaN  NaN        NaN       NaN   \n",
            "4462  4-30      NaN         NaN       NaN      NaN  NaN        NaN       NaN   \n",
            "4463  4-30      NaN         NaN       NaN      NaN  NaN        NaN       NaN   \n",
            "4464  4-30      NaN         NaN       NaN      NaN  NaN        NaN       NaN   \n",
            "4465  4-30      NaN         NaN       NaN      NaN  NaN        NaN       NaN   \n",
            "\n",
            "       Pressure  Precip. Condition  \n",
            "0     29.67 °in  0.0 °in      Haze  \n",
            "1     29.67 °in  0.0 °in      Haze  \n",
            "2     29.67 °in  0.0 °in      Haze  \n",
            "3     29.67 °in  0.0 °in      Haze  \n",
            "4     29.67 °in  0.0 °in      Haze  \n",
            "...         ...      ...       ...  \n",
            "4461        NaN      NaN       NaN  \n",
            "4462        NaN      NaN       NaN  \n",
            "4463        NaN      NaN       NaN  \n",
            "4464        NaN      NaN       NaN  \n",
            "4465        NaN      NaN       NaN  \n",
            "\n",
            "[4466 rows x 11 columns]\n"
          ]
        }
      ]
    },
    {
      "cell_type": "code",
      "source": [
        "getData(5, 31) #May2021"
      ],
      "metadata": {
        "id": "AUGhEqUNdfRZ",
        "colab": {
          "base_uri": "https://localhost:8080/"
        },
        "outputId": "0c0757d2-23f0-42ba-f7a5-bc75e3555549"
      },
      "execution_count": null,
      "outputs": [
        {
          "output_type": "stream",
          "name": "stdout",
          "text": [
            "https://www.wunderground.com/history/daily/id/east-jakarta/WIHH/date/2021-5-1 status: successful\n",
            "https://www.wunderground.com/history/daily/id/east-jakarta/WIHH/date/2021-5-2 status: successful\n",
            "https://www.wunderground.com/history/daily/id/east-jakarta/WIHH/date/2021-5-3 status: successful\n",
            "https://www.wunderground.com/history/daily/id/east-jakarta/WIHH/date/2021-5-4 status: successful\n",
            "https://www.wunderground.com/history/daily/id/east-jakarta/WIHH/date/2021-5-5 status: successful\n",
            "https://www.wunderground.com/history/daily/id/east-jakarta/WIHH/date/2021-5-6 status: successful\n",
            "https://www.wunderground.com/history/daily/id/east-jakarta/WIHH/date/2021-5-7 status: successful\n",
            "https://www.wunderground.com/history/daily/id/east-jakarta/WIHH/date/2021-5-8 status: successful\n",
            "https://www.wunderground.com/history/daily/id/east-jakarta/WIHH/date/2021-5-9 status: successful\n",
            "https://www.wunderground.com/history/daily/id/east-jakarta/WIHH/date/2021-5-10 status: successful\n",
            "https://www.wunderground.com/history/daily/id/east-jakarta/WIHH/date/2021-5-11 status: successful\n",
            "https://www.wunderground.com/history/daily/id/east-jakarta/WIHH/date/2021-5-12 status: successful\n",
            "https://www.wunderground.com/history/daily/id/east-jakarta/WIHH/date/2021-5-13 status: successful\n",
            "https://www.wunderground.com/history/daily/id/east-jakarta/WIHH/date/2021-5-14 status: successful\n",
            "https://www.wunderground.com/history/daily/id/east-jakarta/WIHH/date/2021-5-15 status: successful\n",
            "https://www.wunderground.com/history/daily/id/east-jakarta/WIHH/date/2021-5-16 status: successful\n",
            "https://www.wunderground.com/history/daily/id/east-jakarta/WIHH/date/2021-5-17 status: successful\n",
            "https://www.wunderground.com/history/daily/id/east-jakarta/WIHH/date/2021-5-18 status: successful\n",
            "https://www.wunderground.com/history/daily/id/east-jakarta/WIHH/date/2021-5-19 status: successful\n",
            "https://www.wunderground.com/history/daily/id/east-jakarta/WIHH/date/2021-5-20 status: successful\n",
            "https://www.wunderground.com/history/daily/id/east-jakarta/WIHH/date/2021-5-21 status: successful\n",
            "https://www.wunderground.com/history/daily/id/east-jakarta/WIHH/date/2021-5-22 status: successful\n",
            "https://www.wunderground.com/history/daily/id/east-jakarta/WIHH/date/2021-5-23 status: successful\n",
            "https://www.wunderground.com/history/daily/id/east-jakarta/WIHH/date/2021-5-24 status: successful\n",
            "https://www.wunderground.com/history/daily/id/east-jakarta/WIHH/date/2021-5-25 status: successful\n",
            "https://www.wunderground.com/history/daily/id/east-jakarta/WIHH/date/2021-5-26 status: successful\n",
            "https://www.wunderground.com/history/daily/id/east-jakarta/WIHH/date/2021-5-27 status: successful\n",
            "https://www.wunderground.com/history/daily/id/east-jakarta/WIHH/date/2021-5-28 status: successful\n",
            "https://www.wunderground.com/history/daily/id/east-jakarta/WIHH/date/2021-5-29 status: successful\n",
            "https://www.wunderground.com/history/daily/id/east-jakarta/WIHH/date/2021-5-30 status: successful\n",
            "https://www.wunderground.com/history/daily/id/east-jakarta/WIHH/date/2021-5-31 status: successful\n"
          ]
        }
      ]
    },
    {
      "cell_type": "code",
      "source": [
        "print(dfAll)"
      ],
      "metadata": {
        "colab": {
          "base_uri": "https://localhost:8080/"
        },
        "id": "InFR_LwkRJ4J",
        "outputId": "f4dc711e-0bad-443d-9376-03cdea410c38"
      },
      "execution_count": null,
      "outputs": [
        {
          "output_type": "stream",
          "name": "stdout",
          "text": [
            "      Date     Time Temperature Dew Point Humidity Wind Wind Speed Wind Gust  \\\n",
            "0      1-1  4:00 AM       77 °F     73 °F    89 °%    W     6 °mph    0 °mph   \n",
            "1      1-1  4:30 AM       77 °F     73 °F    89 °%   SW     5 °mph    0 °mph   \n",
            "2      1-1  5:00 AM       77 °F     73 °F    89 °%  WSW     3 °mph    0 °mph   \n",
            "3      1-1  5:30 AM       77 °F     73 °F    89 °%    W     5 °mph    0 °mph   \n",
            "4      1-1  6:00 AM       75 °F     73 °F    94 °%    W     5 °mph    0 °mph   \n",
            "...    ...      ...         ...       ...      ...  ...        ...       ...   \n",
            "5843  5-31      NaN         NaN       NaN      NaN  NaN        NaN       NaN   \n",
            "5844  5-31      NaN         NaN       NaN      NaN  NaN        NaN       NaN   \n",
            "5845  5-31      NaN         NaN       NaN      NaN  NaN        NaN       NaN   \n",
            "5846  5-31      NaN         NaN       NaN      NaN  NaN        NaN       NaN   \n",
            "5847  5-31      NaN         NaN       NaN      NaN  NaN        NaN       NaN   \n",
            "\n",
            "       Pressure  Precip. Condition  \n",
            "0     29.67 °in  0.0 °in      Haze  \n",
            "1     29.67 °in  0.0 °in      Haze  \n",
            "2     29.67 °in  0.0 °in      Haze  \n",
            "3     29.67 °in  0.0 °in      Haze  \n",
            "4     29.67 °in  0.0 °in      Haze  \n",
            "...         ...      ...       ...  \n",
            "5843        NaN      NaN       NaN  \n",
            "5844        NaN      NaN       NaN  \n",
            "5845        NaN      NaN       NaN  \n",
            "5846        NaN      NaN       NaN  \n",
            "5847        NaN      NaN       NaN  \n",
            "\n",
            "[5848 rows x 11 columns]\n"
          ]
        }
      ]
    },
    {
      "cell_type": "code",
      "source": [
        "getData(6, 30) #June2021"
      ],
      "metadata": {
        "id": "_U-6P0VNdgxK",
        "colab": {
          "base_uri": "https://localhost:8080/"
        },
        "outputId": "c66c7f39-f612-4231-c79e-69ee90a13350"
      },
      "execution_count": null,
      "outputs": [
        {
          "output_type": "stream",
          "name": "stdout",
          "text": [
            "https://www.wunderground.com/history/daily/id/east-jakarta/WIHH/date/2021-6-1 status: successful\n",
            "https://www.wunderground.com/history/daily/id/east-jakarta/WIHH/date/2021-6-2 status: successful\n",
            "https://www.wunderground.com/history/daily/id/east-jakarta/WIHH/date/2021-6-3 status: successful\n",
            "https://www.wunderground.com/history/daily/id/east-jakarta/WIHH/date/2021-6-4 status: successful\n",
            "https://www.wunderground.com/history/daily/id/east-jakarta/WIHH/date/2021-6-5 status: successful\n",
            "https://www.wunderground.com/history/daily/id/east-jakarta/WIHH/date/2021-6-6 status: successful\n",
            "https://www.wunderground.com/history/daily/id/east-jakarta/WIHH/date/2021-6-7 status: successful\n",
            "https://www.wunderground.com/history/daily/id/east-jakarta/WIHH/date/2021-6-8 status: successful\n",
            "https://www.wunderground.com/history/daily/id/east-jakarta/WIHH/date/2021-6-9 status: successful\n",
            "https://www.wunderground.com/history/daily/id/east-jakarta/WIHH/date/2021-6-10 status: successful\n",
            "https://www.wunderground.com/history/daily/id/east-jakarta/WIHH/date/2021-6-11 status: successful\n",
            "https://www.wunderground.com/history/daily/id/east-jakarta/WIHH/date/2021-6-12 status: successful\n",
            "https://www.wunderground.com/history/daily/id/east-jakarta/WIHH/date/2021-6-13 status: successful\n",
            "https://www.wunderground.com/history/daily/id/east-jakarta/WIHH/date/2021-6-14 status: successful\n",
            "https://www.wunderground.com/history/daily/id/east-jakarta/WIHH/date/2021-6-15 status: successful\n",
            "https://www.wunderground.com/history/daily/id/east-jakarta/WIHH/date/2021-6-16 status: successful\n",
            "https://www.wunderground.com/history/daily/id/east-jakarta/WIHH/date/2021-6-17 status: successful\n",
            "https://www.wunderground.com/history/daily/id/east-jakarta/WIHH/date/2021-6-18 status: successful\n",
            "https://www.wunderground.com/history/daily/id/east-jakarta/WIHH/date/2021-6-19 status: successful\n",
            "https://www.wunderground.com/history/daily/id/east-jakarta/WIHH/date/2021-6-20 status: successful\n",
            "https://www.wunderground.com/history/daily/id/east-jakarta/WIHH/date/2021-6-21 status: successful\n",
            "https://www.wunderground.com/history/daily/id/east-jakarta/WIHH/date/2021-6-22 status: successful\n",
            "https://www.wunderground.com/history/daily/id/east-jakarta/WIHH/date/2021-6-23 status: successful\n",
            "https://www.wunderground.com/history/daily/id/east-jakarta/WIHH/date/2021-6-24 status: successful\n",
            "https://www.wunderground.com/history/daily/id/east-jakarta/WIHH/date/2021-6-25 status: successful\n",
            "https://www.wunderground.com/history/daily/id/east-jakarta/WIHH/date/2021-6-26 status: successful\n",
            "https://www.wunderground.com/history/daily/id/east-jakarta/WIHH/date/2021-6-27 status: successful\n",
            "https://www.wunderground.com/history/daily/id/east-jakarta/WIHH/date/2021-6-28 status: successful\n",
            "https://www.wunderground.com/history/daily/id/east-jakarta/WIHH/date/2021-6-29 status: successful\n",
            "https://www.wunderground.com/history/daily/id/east-jakarta/WIHH/date/2021-6-30 status: successful\n"
          ]
        }
      ]
    },
    {
      "cell_type": "code",
      "source": [
        "print(dfAll)"
      ],
      "metadata": {
        "colab": {
          "base_uri": "https://localhost:8080/"
        },
        "id": "Yow-cV-8RLZO",
        "outputId": "f7a9aca6-1b23-450a-b14e-458fb90ef943"
      },
      "execution_count": null,
      "outputs": [
        {
          "output_type": "stream",
          "name": "stdout",
          "text": [
            "      Date     Time Temperature Dew Point Humidity Wind Wind Speed Wind Gust  \\\n",
            "0      1-1  4:00 AM       77 °F     73 °F    89 °%    W     6 °mph    0 °mph   \n",
            "1      1-1  4:30 AM       77 °F     73 °F    89 °%   SW     5 °mph    0 °mph   \n",
            "2      1-1  5:00 AM       77 °F     73 °F    89 °%  WSW     3 °mph    0 °mph   \n",
            "3      1-1  5:30 AM       77 °F     73 °F    89 °%    W     5 °mph    0 °mph   \n",
            "4      1-1  6:00 AM       75 °F     73 °F    94 °%    W     5 °mph    0 °mph   \n",
            "...    ...      ...         ...       ...      ...  ...        ...       ...   \n",
            "7153  6-30      NaN         NaN       NaN      NaN  NaN        NaN       NaN   \n",
            "7154  6-30      NaN         NaN       NaN      NaN  NaN        NaN       NaN   \n",
            "7155  6-30      NaN         NaN       NaN      NaN  NaN        NaN       NaN   \n",
            "7156  6-30      NaN         NaN       NaN      NaN  NaN        NaN       NaN   \n",
            "7157  6-30      NaN         NaN       NaN      NaN  NaN        NaN       NaN   \n",
            "\n",
            "       Pressure  Precip. Condition  \n",
            "0     29.67 °in  0.0 °in      Haze  \n",
            "1     29.67 °in  0.0 °in      Haze  \n",
            "2     29.67 °in  0.0 °in      Haze  \n",
            "3     29.67 °in  0.0 °in      Haze  \n",
            "4     29.67 °in  0.0 °in      Haze  \n",
            "...         ...      ...       ...  \n",
            "7153        NaN      NaN       NaN  \n",
            "7154        NaN      NaN       NaN  \n",
            "7155        NaN      NaN       NaN  \n",
            "7156        NaN      NaN       NaN  \n",
            "7157        NaN      NaN       NaN  \n",
            "\n",
            "[7158 rows x 11 columns]\n"
          ]
        }
      ]
    },
    {
      "cell_type": "code",
      "source": [
        "getData(7, 31) #July2021"
      ],
      "metadata": {
        "id": "Nt_sCpGrdiEc",
        "colab": {
          "base_uri": "https://localhost:8080/"
        },
        "outputId": "2b70932f-b973-429a-cebf-503248613e10"
      },
      "execution_count": null,
      "outputs": [
        {
          "output_type": "stream",
          "name": "stdout",
          "text": [
            "https://www.wunderground.com/history/daily/id/east-jakarta/WIHH/date/2021-7-1 status: successful\n",
            "https://www.wunderground.com/history/daily/id/east-jakarta/WIHH/date/2021-7-2 status: successful\n",
            "https://www.wunderground.com/history/daily/id/east-jakarta/WIHH/date/2021-7-3 status: successful\n",
            "https://www.wunderground.com/history/daily/id/east-jakarta/WIHH/date/2021-7-4 status: successful\n",
            "https://www.wunderground.com/history/daily/id/east-jakarta/WIHH/date/2021-7-5 status: successful\n",
            "https://www.wunderground.com/history/daily/id/east-jakarta/WIHH/date/2021-7-6 status: successful\n",
            "https://www.wunderground.com/history/daily/id/east-jakarta/WIHH/date/2021-7-7 status: successful\n",
            "https://www.wunderground.com/history/daily/id/east-jakarta/WIHH/date/2021-7-8 status: successful\n",
            "https://www.wunderground.com/history/daily/id/east-jakarta/WIHH/date/2021-7-9 status: successful\n",
            "https://www.wunderground.com/history/daily/id/east-jakarta/WIHH/date/2021-7-10 status: successful\n",
            "https://www.wunderground.com/history/daily/id/east-jakarta/WIHH/date/2021-7-11 status: successful\n",
            "https://www.wunderground.com/history/daily/id/east-jakarta/WIHH/date/2021-7-12 status: successful\n",
            "https://www.wunderground.com/history/daily/id/east-jakarta/WIHH/date/2021-7-13 status: successful\n",
            "https://www.wunderground.com/history/daily/id/east-jakarta/WIHH/date/2021-7-14 status: successful\n",
            "https://www.wunderground.com/history/daily/id/east-jakarta/WIHH/date/2021-7-15 status: successful\n",
            "https://www.wunderground.com/history/daily/id/east-jakarta/WIHH/date/2021-7-16 status: successful\n",
            "https://www.wunderground.com/history/daily/id/east-jakarta/WIHH/date/2021-7-17 status: successful\n",
            "https://www.wunderground.com/history/daily/id/east-jakarta/WIHH/date/2021-7-18 status: successful\n",
            "https://www.wunderground.com/history/daily/id/east-jakarta/WIHH/date/2021-7-19 status: successful\n",
            "https://www.wunderground.com/history/daily/id/east-jakarta/WIHH/date/2021-7-20 status: successful\n",
            "https://www.wunderground.com/history/daily/id/east-jakarta/WIHH/date/2021-7-21 status: successful\n",
            "https://www.wunderground.com/history/daily/id/east-jakarta/WIHH/date/2021-7-22 status: successful\n",
            "https://www.wunderground.com/history/daily/id/east-jakarta/WIHH/date/2021-7-23 status: successful\n",
            "https://www.wunderground.com/history/daily/id/east-jakarta/WIHH/date/2021-7-24 status: successful\n",
            "https://www.wunderground.com/history/daily/id/east-jakarta/WIHH/date/2021-7-25 status: successful\n",
            "https://www.wunderground.com/history/daily/id/east-jakarta/WIHH/date/2021-7-26 status: successful\n",
            "https://www.wunderground.com/history/daily/id/east-jakarta/WIHH/date/2021-7-27 status: successful\n",
            "https://www.wunderground.com/history/daily/id/east-jakarta/WIHH/date/2021-7-28 status: successful\n",
            "https://www.wunderground.com/history/daily/id/east-jakarta/WIHH/date/2021-7-29 status: successful\n",
            "https://www.wunderground.com/history/daily/id/east-jakarta/WIHH/date/2021-7-30 status: successful\n",
            "https://www.wunderground.com/history/daily/id/east-jakarta/WIHH/date/2021-7-31 status: successful\n"
          ]
        }
      ]
    },
    {
      "cell_type": "code",
      "source": [
        "print(dfAll)"
      ],
      "metadata": {
        "colab": {
          "base_uri": "https://localhost:8080/"
        },
        "id": "jBPbQ3JZROhY",
        "outputId": "b80ba7ab-cf12-47d3-d516-625ff87bcf7f"
      },
      "execution_count": null,
      "outputs": [
        {
          "output_type": "stream",
          "name": "stdout",
          "text": [
            "      Date     Time Temperature Dew Point Humidity Wind Wind Speed Wind Gust  \\\n",
            "0      1-1  4:00 AM       77 °F     73 °F    89 °%    W     6 °mph    0 °mph   \n",
            "1      1-1  4:30 AM       77 °F     73 °F    89 °%   SW     5 °mph    0 °mph   \n",
            "2      1-1  5:00 AM       77 °F     73 °F    89 °%  WSW     3 °mph    0 °mph   \n",
            "3      1-1  5:30 AM       77 °F     73 °F    89 °%    W     5 °mph    0 °mph   \n",
            "4      1-1  6:00 AM       75 °F     73 °F    94 °%    W     5 °mph    0 °mph   \n",
            "...    ...      ...         ...       ...      ...  ...        ...       ...   \n",
            "8569  7-31      NaN         NaN       NaN      NaN  NaN        NaN       NaN   \n",
            "8570  7-31      NaN         NaN       NaN      NaN  NaN        NaN       NaN   \n",
            "8571  7-31      NaN         NaN       NaN      NaN  NaN        NaN       NaN   \n",
            "8572  7-31      NaN         NaN       NaN      NaN  NaN        NaN       NaN   \n",
            "8573  7-31      NaN         NaN       NaN      NaN  NaN        NaN       NaN   \n",
            "\n",
            "       Pressure  Precip. Condition  \n",
            "0     29.67 °in  0.0 °in      Haze  \n",
            "1     29.67 °in  0.0 °in      Haze  \n",
            "2     29.67 °in  0.0 °in      Haze  \n",
            "3     29.67 °in  0.0 °in      Haze  \n",
            "4     29.67 °in  0.0 °in      Haze  \n",
            "...         ...      ...       ...  \n",
            "8569        NaN      NaN       NaN  \n",
            "8570        NaN      NaN       NaN  \n",
            "8571        NaN      NaN       NaN  \n",
            "8572        NaN      NaN       NaN  \n",
            "8573        NaN      NaN       NaN  \n",
            "\n",
            "[8574 rows x 11 columns]\n"
          ]
        }
      ]
    },
    {
      "cell_type": "code",
      "source": [
        "getData(8, 31) #August2021"
      ],
      "metadata": {
        "id": "5eaUmKVJd52d",
        "colab": {
          "base_uri": "https://localhost:8080/"
        },
        "outputId": "c4a6183c-5c2b-4019-da05-8d6b30f461af"
      },
      "execution_count": null,
      "outputs": [
        {
          "output_type": "stream",
          "name": "stdout",
          "text": [
            "https://www.wunderground.com/history/daily/id/east-jakarta/WIHH/date/2021-8-1 status: successful\n",
            "https://www.wunderground.com/history/daily/id/east-jakarta/WIHH/date/2021-8-2 status: successful\n",
            "https://www.wunderground.com/history/daily/id/east-jakarta/WIHH/date/2021-8-3 status: successful\n",
            "https://www.wunderground.com/history/daily/id/east-jakarta/WIHH/date/2021-8-4 status: successful\n",
            "https://www.wunderground.com/history/daily/id/east-jakarta/WIHH/date/2021-8-5 status: successful\n",
            "https://www.wunderground.com/history/daily/id/east-jakarta/WIHH/date/2021-8-6 status: successful\n",
            "https://www.wunderground.com/history/daily/id/east-jakarta/WIHH/date/2021-8-7 status: successful\n",
            "https://www.wunderground.com/history/daily/id/east-jakarta/WIHH/date/2021-8-8 status: successful\n",
            "https://www.wunderground.com/history/daily/id/east-jakarta/WIHH/date/2021-8-9 status: successful\n",
            "https://www.wunderground.com/history/daily/id/east-jakarta/WIHH/date/2021-8-10 status: successful\n",
            "https://www.wunderground.com/history/daily/id/east-jakarta/WIHH/date/2021-8-11 status: successful\n",
            "https://www.wunderground.com/history/daily/id/east-jakarta/WIHH/date/2021-8-12 status: successful\n",
            "https://www.wunderground.com/history/daily/id/east-jakarta/WIHH/date/2021-8-13 status: successful\n",
            "https://www.wunderground.com/history/daily/id/east-jakarta/WIHH/date/2021-8-14 status: successful\n",
            "https://www.wunderground.com/history/daily/id/east-jakarta/WIHH/date/2021-8-15 status: successful\n",
            "https://www.wunderground.com/history/daily/id/east-jakarta/WIHH/date/2021-8-16 status: successful\n",
            "https://www.wunderground.com/history/daily/id/east-jakarta/WIHH/date/2021-8-17 status: successful\n",
            "https://www.wunderground.com/history/daily/id/east-jakarta/WIHH/date/2021-8-18 status: successful\n",
            "https://www.wunderground.com/history/daily/id/east-jakarta/WIHH/date/2021-8-19 status: successful\n",
            "https://www.wunderground.com/history/daily/id/east-jakarta/WIHH/date/2021-8-20 status: successful\n",
            "https://www.wunderground.com/history/daily/id/east-jakarta/WIHH/date/2021-8-21 status: successful\n",
            "https://www.wunderground.com/history/daily/id/east-jakarta/WIHH/date/2021-8-22 status: successful\n",
            "https://www.wunderground.com/history/daily/id/east-jakarta/WIHH/date/2021-8-23 status: successful\n",
            "https://www.wunderground.com/history/daily/id/east-jakarta/WIHH/date/2021-8-24 status: successful\n",
            "https://www.wunderground.com/history/daily/id/east-jakarta/WIHH/date/2021-8-25 status: successful\n",
            "https://www.wunderground.com/history/daily/id/east-jakarta/WIHH/date/2021-8-26 status: successful\n",
            "https://www.wunderground.com/history/daily/id/east-jakarta/WIHH/date/2021-8-27 status: successful\n",
            "https://www.wunderground.com/history/daily/id/east-jakarta/WIHH/date/2021-8-28 status: successful\n",
            "https://www.wunderground.com/history/daily/id/east-jakarta/WIHH/date/2021-8-29 status: successful\n",
            "https://www.wunderground.com/history/daily/id/east-jakarta/WIHH/date/2021-8-30 status: successful\n",
            "https://www.wunderground.com/history/daily/id/east-jakarta/WIHH/date/2021-8-31 status: successful\n"
          ]
        }
      ]
    },
    {
      "cell_type": "code",
      "source": [
        "print(dfAll)"
      ],
      "metadata": {
        "colab": {
          "base_uri": "https://localhost:8080/"
        },
        "id": "cMHGIY3uRPTd",
        "outputId": "e7294127-93e9-4948-a2f5-72c7971b2821"
      },
      "execution_count": null,
      "outputs": [
        {
          "output_type": "stream",
          "name": "stdout",
          "text": [
            "       Date     Time Temperature Dew Point Humidity Wind Wind Speed Wind Gust  \\\n",
            "0       1-1  4:00 AM       77 °F     73 °F    89 °%    W     6 °mph    0 °mph   \n",
            "1       1-1  4:30 AM       77 °F     73 °F    89 °%   SW     5 °mph    0 °mph   \n",
            "2       1-1  5:00 AM       77 °F     73 °F    89 °%  WSW     3 °mph    0 °mph   \n",
            "3       1-1  5:30 AM       77 °F     73 °F    89 °%    W     5 °mph    0 °mph   \n",
            "4       1-1  6:00 AM       75 °F     73 °F    94 °%    W     5 °mph    0 °mph   \n",
            "...     ...      ...         ...       ...      ...  ...        ...       ...   \n",
            "10015  8-31      NaN         NaN       NaN      NaN  NaN        NaN       NaN   \n",
            "10016  8-31      NaN         NaN       NaN      NaN  NaN        NaN       NaN   \n",
            "10017  8-31      NaN         NaN       NaN      NaN  NaN        NaN       NaN   \n",
            "10018  8-31      NaN         NaN       NaN      NaN  NaN        NaN       NaN   \n",
            "10019  8-31      NaN         NaN       NaN      NaN  NaN        NaN       NaN   \n",
            "\n",
            "        Pressure  Precip. Condition  \n",
            "0      29.67 °in  0.0 °in      Haze  \n",
            "1      29.67 °in  0.0 °in      Haze  \n",
            "2      29.67 °in  0.0 °in      Haze  \n",
            "3      29.67 °in  0.0 °in      Haze  \n",
            "4      29.67 °in  0.0 °in      Haze  \n",
            "...          ...      ...       ...  \n",
            "10015        NaN      NaN       NaN  \n",
            "10016        NaN      NaN       NaN  \n",
            "10017        NaN      NaN       NaN  \n",
            "10018        NaN      NaN       NaN  \n",
            "10019        NaN      NaN       NaN  \n",
            "\n",
            "[10020 rows x 11 columns]\n"
          ]
        }
      ]
    },
    {
      "cell_type": "code",
      "source": [
        "getData(9, 30) #September2021"
      ],
      "metadata": {
        "id": "NK0WOAuld7Yo",
        "colab": {
          "base_uri": "https://localhost:8080/"
        },
        "outputId": "eba1c316-bc04-4539-ac7c-9eb403645db0"
      },
      "execution_count": null,
      "outputs": [
        {
          "output_type": "stream",
          "name": "stdout",
          "text": [
            "https://www.wunderground.com/history/daily/id/east-jakarta/WIHH/date/2021-9-1 status: successful\n",
            "https://www.wunderground.com/history/daily/id/east-jakarta/WIHH/date/2021-9-2 status: successful\n",
            "https://www.wunderground.com/history/daily/id/east-jakarta/WIHH/date/2021-9-3 status: successful\n",
            "https://www.wunderground.com/history/daily/id/east-jakarta/WIHH/date/2021-9-4 status: successful\n",
            "https://www.wunderground.com/history/daily/id/east-jakarta/WIHH/date/2021-9-5 status: successful\n",
            "https://www.wunderground.com/history/daily/id/east-jakarta/WIHH/date/2021-9-6 status: successful\n",
            "https://www.wunderground.com/history/daily/id/east-jakarta/WIHH/date/2021-9-7 status: successful\n",
            "https://www.wunderground.com/history/daily/id/east-jakarta/WIHH/date/2021-9-8 status: successful\n",
            "https://www.wunderground.com/history/daily/id/east-jakarta/WIHH/date/2021-9-9 status: successful\n",
            "https://www.wunderground.com/history/daily/id/east-jakarta/WIHH/date/2021-9-10 status: successful\n",
            "https://www.wunderground.com/history/daily/id/east-jakarta/WIHH/date/2021-9-11 status: successful\n",
            "https://www.wunderground.com/history/daily/id/east-jakarta/WIHH/date/2021-9-12 status: successful\n",
            "https://www.wunderground.com/history/daily/id/east-jakarta/WIHH/date/2021-9-13 status: successful\n",
            "https://www.wunderground.com/history/daily/id/east-jakarta/WIHH/date/2021-9-14 status: successful\n",
            "https://www.wunderground.com/history/daily/id/east-jakarta/WIHH/date/2021-9-15 status: successful\n",
            "https://www.wunderground.com/history/daily/id/east-jakarta/WIHH/date/2021-9-16 status: successful\n",
            "https://www.wunderground.com/history/daily/id/east-jakarta/WIHH/date/2021-9-17 status: successful\n",
            "https://www.wunderground.com/history/daily/id/east-jakarta/WIHH/date/2021-9-18 status: successful\n",
            "https://www.wunderground.com/history/daily/id/east-jakarta/WIHH/date/2021-9-19 status: successful\n",
            "https://www.wunderground.com/history/daily/id/east-jakarta/WIHH/date/2021-9-20 status: successful\n",
            "https://www.wunderground.com/history/daily/id/east-jakarta/WIHH/date/2021-9-21 status: successful\n",
            "https://www.wunderground.com/history/daily/id/east-jakarta/WIHH/date/2021-9-22 status: successful\n",
            "https://www.wunderground.com/history/daily/id/east-jakarta/WIHH/date/2021-9-23 status: successful\n",
            "https://www.wunderground.com/history/daily/id/east-jakarta/WIHH/date/2021-9-24 status: successful\n",
            "https://www.wunderground.com/history/daily/id/east-jakarta/WIHH/date/2021-9-25 status: successful\n",
            "https://www.wunderground.com/history/daily/id/east-jakarta/WIHH/date/2021-9-26 status: successful\n",
            "https://www.wunderground.com/history/daily/id/east-jakarta/WIHH/date/2021-9-27 status: successful\n",
            "https://www.wunderground.com/history/daily/id/east-jakarta/WIHH/date/2021-9-28 status: successful\n",
            "https://www.wunderground.com/history/daily/id/east-jakarta/WIHH/date/2021-9-29 status: successful\n",
            "https://www.wunderground.com/history/daily/id/east-jakarta/WIHH/date/2021-9-30 status: successful\n"
          ]
        }
      ]
    },
    {
      "cell_type": "code",
      "source": [
        "print(dfAll)"
      ],
      "metadata": {
        "colab": {
          "base_uri": "https://localhost:8080/"
        },
        "id": "x-a840fYRQAJ",
        "outputId": "1519d017-9397-4a84-9321-85d89eb8bd8e"
      },
      "execution_count": null,
      "outputs": [
        {
          "output_type": "stream",
          "name": "stdout",
          "text": [
            "       Date     Time Temperature Dew Point Humidity Wind Wind Speed Wind Gust  \\\n",
            "0       1-1  4:00 AM       77 °F     73 °F    89 °%    W     6 °mph    0 °mph   \n",
            "1       1-1  4:30 AM       77 °F     73 °F    89 °%   SW     5 °mph    0 °mph   \n",
            "2       1-1  5:00 AM       77 °F     73 °F    89 °%  WSW     3 °mph    0 °mph   \n",
            "3       1-1  5:30 AM       77 °F     73 °F    89 °%    W     5 °mph    0 °mph   \n",
            "4       1-1  6:00 AM       75 °F     73 °F    94 °%    W     5 °mph    0 °mph   \n",
            "...     ...      ...         ...       ...      ...  ...        ...       ...   \n",
            "11385  9-30      NaN         NaN       NaN      NaN  NaN        NaN       NaN   \n",
            "11386  9-30      NaN         NaN       NaN      NaN  NaN        NaN       NaN   \n",
            "11387  9-30      NaN         NaN       NaN      NaN  NaN        NaN       NaN   \n",
            "11388  9-30      NaN         NaN       NaN      NaN  NaN        NaN       NaN   \n",
            "11389  9-30      NaN         NaN       NaN      NaN  NaN        NaN       NaN   \n",
            "\n",
            "        Pressure  Precip. Condition  \n",
            "0      29.67 °in  0.0 °in      Haze  \n",
            "1      29.67 °in  0.0 °in      Haze  \n",
            "2      29.67 °in  0.0 °in      Haze  \n",
            "3      29.67 °in  0.0 °in      Haze  \n",
            "4      29.67 °in  0.0 °in      Haze  \n",
            "...          ...      ...       ...  \n",
            "11385        NaN      NaN       NaN  \n",
            "11386        NaN      NaN       NaN  \n",
            "11387        NaN      NaN       NaN  \n",
            "11388        NaN      NaN       NaN  \n",
            "11389        NaN      NaN       NaN  \n",
            "\n",
            "[11390 rows x 11 columns]\n"
          ]
        }
      ]
    },
    {
      "cell_type": "code",
      "source": [
        "getData(10, 31) #October2021"
      ],
      "metadata": {
        "id": "T48Z0nkyd8na",
        "colab": {
          "base_uri": "https://localhost:8080/"
        },
        "outputId": "bfdddf29-0bbe-492b-a9ec-ecd3f93c3f70"
      },
      "execution_count": null,
      "outputs": [
        {
          "output_type": "stream",
          "name": "stdout",
          "text": [
            "https://www.wunderground.com/history/daily/id/east-jakarta/WIHH/date/2021-10-1 status: successful\n",
            "https://www.wunderground.com/history/daily/id/east-jakarta/WIHH/date/2021-10-2 status: successful\n",
            "https://www.wunderground.com/history/daily/id/east-jakarta/WIHH/date/2021-10-3 status: successful\n",
            "https://www.wunderground.com/history/daily/id/east-jakarta/WIHH/date/2021-10-4 status: successful\n",
            "https://www.wunderground.com/history/daily/id/east-jakarta/WIHH/date/2021-10-5 status: successful\n",
            "https://www.wunderground.com/history/daily/id/east-jakarta/WIHH/date/2021-10-6 status: successful\n",
            "https://www.wunderground.com/history/daily/id/east-jakarta/WIHH/date/2021-10-7 status: successful\n",
            "https://www.wunderground.com/history/daily/id/east-jakarta/WIHH/date/2021-10-8 status: successful\n",
            "https://www.wunderground.com/history/daily/id/east-jakarta/WIHH/date/2021-10-9 status: successful\n",
            "https://www.wunderground.com/history/daily/id/east-jakarta/WIHH/date/2021-10-10 status: successful\n",
            "https://www.wunderground.com/history/daily/id/east-jakarta/WIHH/date/2021-10-11 status: successful\n",
            "https://www.wunderground.com/history/daily/id/east-jakarta/WIHH/date/2021-10-12 status: successful\n",
            "https://www.wunderground.com/history/daily/id/east-jakarta/WIHH/date/2021-10-13 status: successful\n",
            "https://www.wunderground.com/history/daily/id/east-jakarta/WIHH/date/2021-10-14 status: successful\n",
            "https://www.wunderground.com/history/daily/id/east-jakarta/WIHH/date/2021-10-15 status: successful\n",
            "https://www.wunderground.com/history/daily/id/east-jakarta/WIHH/date/2021-10-16 status: successful\n",
            "https://www.wunderground.com/history/daily/id/east-jakarta/WIHH/date/2021-10-17 status: successful\n",
            "https://www.wunderground.com/history/daily/id/east-jakarta/WIHH/date/2021-10-18 status: successful\n",
            "https://www.wunderground.com/history/daily/id/east-jakarta/WIHH/date/2021-10-19 status: successful\n",
            "https://www.wunderground.com/history/daily/id/east-jakarta/WIHH/date/2021-10-20 status: successful\n",
            "https://www.wunderground.com/history/daily/id/east-jakarta/WIHH/date/2021-10-21 status: successful\n",
            "https://www.wunderground.com/history/daily/id/east-jakarta/WIHH/date/2021-10-22 status: successful\n",
            "https://www.wunderground.com/history/daily/id/east-jakarta/WIHH/date/2021-10-23 status: successful\n",
            "https://www.wunderground.com/history/daily/id/east-jakarta/WIHH/date/2021-10-24 status: successful\n",
            "https://www.wunderground.com/history/daily/id/east-jakarta/WIHH/date/2021-10-25 status: successful\n",
            "https://www.wunderground.com/history/daily/id/east-jakarta/WIHH/date/2021-10-26 status: successful\n",
            "https://www.wunderground.com/history/daily/id/east-jakarta/WIHH/date/2021-10-27 status: successful\n",
            "https://www.wunderground.com/history/daily/id/east-jakarta/WIHH/date/2021-10-28 status: successful\n",
            "https://www.wunderground.com/history/daily/id/east-jakarta/WIHH/date/2021-10-29 status: successful\n",
            "https://www.wunderground.com/history/daily/id/east-jakarta/WIHH/date/2021-10-30 status: successful\n",
            "https://www.wunderground.com/history/daily/id/east-jakarta/WIHH/date/2021-10-31 status: successful\n"
          ]
        }
      ]
    },
    {
      "cell_type": "code",
      "source": [
        "print(dfAll)"
      ],
      "metadata": {
        "colab": {
          "base_uri": "https://localhost:8080/"
        },
        "id": "zl6_u22gRQ5X",
        "outputId": "2f04cf07-9659-484d-c5d3-98609dd7f843"
      },
      "execution_count": null,
      "outputs": [
        {
          "output_type": "stream",
          "name": "stdout",
          "text": [
            "        Date     Time Temperature Dew Point Humidity Wind Wind Speed  \\\n",
            "0        1-1  4:00 AM       77 °F     73 °F    89 °%    W     6 °mph   \n",
            "1        1-1  4:30 AM       77 °F     73 °F    89 °%   SW     5 °mph   \n",
            "2        1-1  5:00 AM       77 °F     73 °F    89 °%  WSW     3 °mph   \n",
            "3        1-1  5:30 AM       77 °F     73 °F    89 °%    W     5 °mph   \n",
            "4        1-1  6:00 AM       75 °F     73 °F    94 °%    W     5 °mph   \n",
            "...      ...      ...         ...       ...      ...  ...        ...   \n",
            "12808  10-31      NaN         NaN       NaN      NaN  NaN        NaN   \n",
            "12809  10-31      NaN         NaN       NaN      NaN  NaN        NaN   \n",
            "12810  10-31      NaN         NaN       NaN      NaN  NaN        NaN   \n",
            "12811  10-31      NaN         NaN       NaN      NaN  NaN        NaN   \n",
            "12812  10-31      NaN         NaN       NaN      NaN  NaN        NaN   \n",
            "\n",
            "      Wind Gust   Pressure  Precip. Condition  \n",
            "0        0 °mph  29.67 °in  0.0 °in      Haze  \n",
            "1        0 °mph  29.67 °in  0.0 °in      Haze  \n",
            "2        0 °mph  29.67 °in  0.0 °in      Haze  \n",
            "3        0 °mph  29.67 °in  0.0 °in      Haze  \n",
            "4        0 °mph  29.67 °in  0.0 °in      Haze  \n",
            "...         ...        ...      ...       ...  \n",
            "12808       NaN        NaN      NaN       NaN  \n",
            "12809       NaN        NaN      NaN       NaN  \n",
            "12810       NaN        NaN      NaN       NaN  \n",
            "12811       NaN        NaN      NaN       NaN  \n",
            "12812       NaN        NaN      NaN       NaN  \n",
            "\n",
            "[12813 rows x 11 columns]\n"
          ]
        }
      ]
    },
    {
      "cell_type": "code",
      "source": [
        "getData(11, 30) #November2021"
      ],
      "metadata": {
        "id": "Jf2e-CvMd_zn",
        "colab": {
          "base_uri": "https://localhost:8080/"
        },
        "outputId": "a263fdf6-d470-474d-e42f-a1f5cf2405b3"
      },
      "execution_count": null,
      "outputs": [
        {
          "output_type": "stream",
          "name": "stdout",
          "text": [
            "https://www.wunderground.com/history/daily/id/east-jakarta/WIHH/date/2021-11-1 status: successful\n",
            "https://www.wunderground.com/history/daily/id/east-jakarta/WIHH/date/2021-11-2 status: successful\n",
            "https://www.wunderground.com/history/daily/id/east-jakarta/WIHH/date/2021-11-3 status: successful\n",
            "https://www.wunderground.com/history/daily/id/east-jakarta/WIHH/date/2021-11-4 status: successful\n",
            "https://www.wunderground.com/history/daily/id/east-jakarta/WIHH/date/2021-11-5 status: successful\n",
            "https://www.wunderground.com/history/daily/id/east-jakarta/WIHH/date/2021-11-6 status: successful\n",
            "https://www.wunderground.com/history/daily/id/east-jakarta/WIHH/date/2021-11-7 status: successful\n",
            "https://www.wunderground.com/history/daily/id/east-jakarta/WIHH/date/2021-11-8 status: successful\n",
            "https://www.wunderground.com/history/daily/id/east-jakarta/WIHH/date/2021-11-9 status: successful\n",
            "https://www.wunderground.com/history/daily/id/east-jakarta/WIHH/date/2021-11-10 status: successful\n",
            "https://www.wunderground.com/history/daily/id/east-jakarta/WIHH/date/2021-11-11 status: successful\n",
            "https://www.wunderground.com/history/daily/id/east-jakarta/WIHH/date/2021-11-12 status: successful\n",
            "https://www.wunderground.com/history/daily/id/east-jakarta/WIHH/date/2021-11-13 status: successful\n",
            "https://www.wunderground.com/history/daily/id/east-jakarta/WIHH/date/2021-11-14 status: successful\n",
            "https://www.wunderground.com/history/daily/id/east-jakarta/WIHH/date/2021-11-15 status: successful\n",
            "https://www.wunderground.com/history/daily/id/east-jakarta/WIHH/date/2021-11-16 status: successful\n",
            "https://www.wunderground.com/history/daily/id/east-jakarta/WIHH/date/2021-11-17 status: successful\n",
            "https://www.wunderground.com/history/daily/id/east-jakarta/WIHH/date/2021-11-18 status: successful\n",
            "https://www.wunderground.com/history/daily/id/east-jakarta/WIHH/date/2021-11-19 status: successful\n",
            "https://www.wunderground.com/history/daily/id/east-jakarta/WIHH/date/2021-11-20 status: successful\n",
            "https://www.wunderground.com/history/daily/id/east-jakarta/WIHH/date/2021-11-21 status: successful\n",
            "https://www.wunderground.com/history/daily/id/east-jakarta/WIHH/date/2021-11-22 status: successful\n",
            "https://www.wunderground.com/history/daily/id/east-jakarta/WIHH/date/2021-11-23 status: successful\n",
            "https://www.wunderground.com/history/daily/id/east-jakarta/WIHH/date/2021-11-24 status: successful\n",
            "https://www.wunderground.com/history/daily/id/east-jakarta/WIHH/date/2021-11-25 status: successful\n",
            "https://www.wunderground.com/history/daily/id/east-jakarta/WIHH/date/2021-11-26 status: successful\n",
            "https://www.wunderground.com/history/daily/id/east-jakarta/WIHH/date/2021-11-27 status: successful\n",
            "https://www.wunderground.com/history/daily/id/east-jakarta/WIHH/date/2021-11-28 status: successful\n",
            "https://www.wunderground.com/history/daily/id/east-jakarta/WIHH/date/2021-11-29 status: successful\n",
            "https://www.wunderground.com/history/daily/id/east-jakarta/WIHH/date/2021-11-30 status: successful\n"
          ]
        }
      ]
    },
    {
      "cell_type": "code",
      "source": [
        "print(dfAll)"
      ],
      "metadata": {
        "colab": {
          "base_uri": "https://localhost:8080/"
        },
        "id": "vaAGlNeHRRf5",
        "outputId": "4141f4fb-cb7a-4a17-d304-669068389884"
      },
      "execution_count": null,
      "outputs": [
        {
          "output_type": "stream",
          "name": "stdout",
          "text": [
            "        Date     Time Temperature Dew Point Humidity Wind Wind Speed  \\\n",
            "0        1-1  4:00 AM       77 °F     73 °F    89 °%    W     6 °mph   \n",
            "1        1-1  4:30 AM       77 °F     73 °F    89 °%   SW     5 °mph   \n",
            "2        1-1  5:00 AM       77 °F     73 °F    89 °%  WSW     3 °mph   \n",
            "3        1-1  5:30 AM       77 °F     73 °F    89 °%    W     5 °mph   \n",
            "4        1-1  6:00 AM       75 °F     73 °F    94 °%    W     5 °mph   \n",
            "...      ...      ...         ...       ...      ...  ...        ...   \n",
            "14009  11-30      NaN         NaN       NaN      NaN  NaN        NaN   \n",
            "14010  11-30      NaN         NaN       NaN      NaN  NaN        NaN   \n",
            "14011  11-30      NaN         NaN       NaN      NaN  NaN        NaN   \n",
            "14012  11-30      NaN         NaN       NaN      NaN  NaN        NaN   \n",
            "14013  11-30      NaN         NaN       NaN      NaN  NaN        NaN   \n",
            "\n",
            "      Wind Gust   Pressure  Precip. Condition  \n",
            "0        0 °mph  29.67 °in  0.0 °in      Haze  \n",
            "1        0 °mph  29.67 °in  0.0 °in      Haze  \n",
            "2        0 °mph  29.67 °in  0.0 °in      Haze  \n",
            "3        0 °mph  29.67 °in  0.0 °in      Haze  \n",
            "4        0 °mph  29.67 °in  0.0 °in      Haze  \n",
            "...         ...        ...      ...       ...  \n",
            "14009       NaN        NaN      NaN       NaN  \n",
            "14010       NaN        NaN      NaN       NaN  \n",
            "14011       NaN        NaN      NaN       NaN  \n",
            "14012       NaN        NaN      NaN       NaN  \n",
            "14013       NaN        NaN      NaN       NaN  \n",
            "\n",
            "[14014 rows x 11 columns]\n"
          ]
        }
      ]
    },
    {
      "cell_type": "code",
      "source": [
        "getData(12, 31) #December2021"
      ],
      "metadata": {
        "id": "vknU-EMpeAzE",
        "colab": {
          "base_uri": "https://localhost:8080/"
        },
        "outputId": "3f2fefb0-3062-4c5f-fdf8-cf23197805fa"
      },
      "execution_count": null,
      "outputs": [
        {
          "output_type": "stream",
          "name": "stdout",
          "text": [
            "https://www.wunderground.com/history/daily/id/east-jakarta/WIHH/date/2021-12-1 status: successful\n",
            "https://www.wunderground.com/history/daily/id/east-jakarta/WIHH/date/2021-12-2 status: successful\n",
            "https://www.wunderground.com/history/daily/id/east-jakarta/WIHH/date/2021-12-3 status: successful\n",
            "https://www.wunderground.com/history/daily/id/east-jakarta/WIHH/date/2021-12-4 status: successful\n",
            "https://www.wunderground.com/history/daily/id/east-jakarta/WIHH/date/2021-12-5 status: successful\n",
            "https://www.wunderground.com/history/daily/id/east-jakarta/WIHH/date/2021-12-6 status: successful\n",
            "https://www.wunderground.com/history/daily/id/east-jakarta/WIHH/date/2021-12-7 status: successful\n",
            "https://www.wunderground.com/history/daily/id/east-jakarta/WIHH/date/2021-12-8 status: successful\n",
            "https://www.wunderground.com/history/daily/id/east-jakarta/WIHH/date/2021-12-9 status: successful\n",
            "https://www.wunderground.com/history/daily/id/east-jakarta/WIHH/date/2021-12-10 status: successful\n",
            "https://www.wunderground.com/history/daily/id/east-jakarta/WIHH/date/2021-12-11 status: successful\n",
            "https://www.wunderground.com/history/daily/id/east-jakarta/WIHH/date/2021-12-12 status: successful\n",
            "https://www.wunderground.com/history/daily/id/east-jakarta/WIHH/date/2021-12-13 status: successful\n",
            "https://www.wunderground.com/history/daily/id/east-jakarta/WIHH/date/2021-12-14 status: successful\n",
            "https://www.wunderground.com/history/daily/id/east-jakarta/WIHH/date/2021-12-15 status: successful\n",
            "https://www.wunderground.com/history/daily/id/east-jakarta/WIHH/date/2021-12-16 status: successful\n",
            "https://www.wunderground.com/history/daily/id/east-jakarta/WIHH/date/2021-12-17 status: successful\n",
            "https://www.wunderground.com/history/daily/id/east-jakarta/WIHH/date/2021-12-18 status: successful\n",
            "https://www.wunderground.com/history/daily/id/east-jakarta/WIHH/date/2021-12-19 status: successful\n",
            "https://www.wunderground.com/history/daily/id/east-jakarta/WIHH/date/2021-12-20 status: successful\n",
            "https://www.wunderground.com/history/daily/id/east-jakarta/WIHH/date/2021-12-21 status: successful\n",
            "https://www.wunderground.com/history/daily/id/east-jakarta/WIHH/date/2021-12-22 status: successful\n",
            "https://www.wunderground.com/history/daily/id/east-jakarta/WIHH/date/2021-12-23 status: successful\n",
            "https://www.wunderground.com/history/daily/id/east-jakarta/WIHH/date/2021-12-24 status: successful\n",
            "https://www.wunderground.com/history/daily/id/east-jakarta/WIHH/date/2021-12-25 status: successful\n",
            "https://www.wunderground.com/history/daily/id/east-jakarta/WIHH/date/2021-12-26 status: successful\n",
            "https://www.wunderground.com/history/daily/id/east-jakarta/WIHH/date/2021-12-27 status: successful\n",
            "https://www.wunderground.com/history/daily/id/east-jakarta/WIHH/date/2021-12-28 status: successful\n",
            "https://www.wunderground.com/history/daily/id/east-jakarta/WIHH/date/2021-12-29 status: successful\n",
            "https://www.wunderground.com/history/daily/id/east-jakarta/WIHH/date/2021-12-30 status: successful\n",
            "https://www.wunderground.com/history/daily/id/east-jakarta/WIHH/date/2021-12-31 status: successful\n"
          ]
        }
      ]
    },
    {
      "cell_type": "code",
      "source": [
        "print(dfAll)"
      ],
      "metadata": {
        "colab": {
          "base_uri": "https://localhost:8080/"
        },
        "id": "JXd0-JGYRSC6",
        "outputId": "49f47a4f-df0e-4405-eb81-4c3f4f2923c6"
      },
      "execution_count": null,
      "outputs": [
        {
          "output_type": "stream",
          "name": "stdout",
          "text": [
            "        Date     Time Temperature Dew Point Humidity Wind Wind Speed  \\\n",
            "0        1-1  4:00 AM       77 °F     73 °F    89 °%    W     6 °mph   \n",
            "1        1-1  4:30 AM       77 °F     73 °F    89 °%   SW     5 °mph   \n",
            "2        1-1  5:00 AM       77 °F     73 °F    89 °%  WSW     3 °mph   \n",
            "3        1-1  5:30 AM       77 °F     73 °F    89 °%    W     5 °mph   \n",
            "4        1-1  6:00 AM       75 °F     73 °F    94 °%    W     5 °mph   \n",
            "...      ...      ...         ...       ...      ...  ...        ...   \n",
            "15410  12-31      NaN         NaN       NaN      NaN  NaN        NaN   \n",
            "15411  12-31      NaN         NaN       NaN      NaN  NaN        NaN   \n",
            "15412  12-31      NaN         NaN       NaN      NaN  NaN        NaN   \n",
            "15413  12-31      NaN         NaN       NaN      NaN  NaN        NaN   \n",
            "15414  12-31      NaN         NaN       NaN      NaN  NaN        NaN   \n",
            "\n",
            "      Wind Gust   Pressure  Precip. Condition  \n",
            "0        0 °mph  29.67 °in  0.0 °in      Haze  \n",
            "1        0 °mph  29.67 °in  0.0 °in      Haze  \n",
            "2        0 °mph  29.67 °in  0.0 °in      Haze  \n",
            "3        0 °mph  29.67 °in  0.0 °in      Haze  \n",
            "4        0 °mph  29.67 °in  0.0 °in      Haze  \n",
            "...         ...        ...      ...       ...  \n",
            "15410       NaN        NaN      NaN       NaN  \n",
            "15411       NaN        NaN      NaN       NaN  \n",
            "15412       NaN        NaN      NaN       NaN  \n",
            "15413       NaN        NaN      NaN       NaN  \n",
            "15414       NaN        NaN      NaN       NaN  \n",
            "\n",
            "[15415 rows x 11 columns]\n"
          ]
        }
      ]
    },
    {
      "cell_type": "code",
      "source": [
        "dfAll.to_excel('TrainingData.xlsx', encoding = 'utf-8-sig') "
      ],
      "metadata": {
        "id": "Itn8fHhuaPJ9"
      },
      "execution_count": null,
      "outputs": []
    },
    {
      "cell_type": "code",
      "source": [
        "files.download('TrainingData.xlsx')"
      ],
      "metadata": {
        "colab": {
          "base_uri": "https://localhost:8080/",
          "height": 17
        },
        "id": "CkNZqNd3aYWr",
        "outputId": "eb6b8705-3fc1-45b5-838e-3f4117804b46"
      },
      "execution_count": null,
      "outputs": [
        {
          "output_type": "display_data",
          "data": {
            "text/plain": [
              "<IPython.core.display.Javascript object>"
            ],
            "application/javascript": [
              "\n",
              "    async function download(id, filename, size) {\n",
              "      if (!google.colab.kernel.accessAllowed) {\n",
              "        return;\n",
              "      }\n",
              "      const div = document.createElement('div');\n",
              "      const label = document.createElement('label');\n",
              "      label.textContent = `Downloading \"${filename}\": `;\n",
              "      div.appendChild(label);\n",
              "      const progress = document.createElement('progress');\n",
              "      progress.max = size;\n",
              "      div.appendChild(progress);\n",
              "      document.body.appendChild(div);\n",
              "\n",
              "      const buffers = [];\n",
              "      let downloaded = 0;\n",
              "\n",
              "      const channel = await google.colab.kernel.comms.open(id);\n",
              "      // Send a message to notify the kernel that we're ready.\n",
              "      channel.send({})\n",
              "\n",
              "      for await (const message of channel.messages) {\n",
              "        // Send a message to notify the kernel that we're ready.\n",
              "        channel.send({})\n",
              "        if (message.buffers) {\n",
              "          for (const buffer of message.buffers) {\n",
              "            buffers.push(buffer);\n",
              "            downloaded += buffer.byteLength;\n",
              "            progress.value = downloaded;\n",
              "          }\n",
              "        }\n",
              "      }\n",
              "      const blob = new Blob(buffers, {type: 'application/binary'});\n",
              "      const a = document.createElement('a');\n",
              "      a.href = window.URL.createObjectURL(blob);\n",
              "      a.download = filename;\n",
              "      div.appendChild(a);\n",
              "      a.click();\n",
              "      div.remove();\n",
              "    }\n",
              "  "
            ]
          },
          "metadata": {}
        },
        {
          "output_type": "display_data",
          "data": {
            "text/plain": [
              "<IPython.core.display.Javascript object>"
            ],
            "application/javascript": [
              "download(\"download_36c3ffe7-ce75-402e-b1ad-3df155687aed\", \"TrainingData.xlsx\", 750938)"
            ]
          },
          "metadata": {}
        }
      ]
    }
  ]
}